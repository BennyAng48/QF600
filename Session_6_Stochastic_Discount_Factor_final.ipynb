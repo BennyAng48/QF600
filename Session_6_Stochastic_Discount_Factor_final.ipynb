{
 "cells": [
  {
   "cell_type": "code",
   "execution_count": 1,
   "metadata": {},
   "outputs": [],
   "source": [
    "import matplotlib.pyplot as plt\n",
    "from matplotlib.pyplot import subplot, scatter, plot, axis\n",
    "import numpy as np\n",
    "import pandas as pd\n",
    "import seaborn as sns\n",
    "from scipy import stats\n",
    "import statsmodels.api as sm\n",
    "\n",
    "# Datetime\n",
    "import datetime as dt\n",
    "from datetime import datetime\n",
    "from datetime import timedelta\n",
    "\n",
    "import warnings"
   ]
  },
  {
   "cell_type": "code",
   "execution_count": 2,
   "metadata": {},
   "outputs": [],
   "source": [
    "warnings.filterwarnings(\"ignore\")"
   ]
  },
  {
   "cell_type": "code",
   "execution_count": 3,
   "metadata": {},
   "outputs": [],
   "source": [
    "# initialize variables\n",
    "n_simulations = 100000"
   ]
  },
  {
   "cell_type": "code",
   "execution_count": 4,
   "metadata": {},
   "outputs": [],
   "source": [
    "random_epsilon = np.random.normal(0, 1)"
   ]
  },
  {
   "cell_type": "code",
   "execution_count": 5,
   "metadata": {},
   "outputs": [],
   "source": [
    "random_nu = np.random.uniform(0, 1)"
   ]
  },
  {
   "cell_type": "code",
   "execution_count": 6,
   "metadata": {},
   "outputs": [],
   "source": [
    "def consumption_growth (epsilon, nu):\n",
    "    growth = np.exp(0.02 + 0.02*epsilon + nu)\n",
    "    return growth\n"
   ]
  },
  {
   "cell_type": "code",
   "execution_count": 7,
   "metadata": {},
   "outputs": [],
   "source": [
    "def pricing_kernel (growth, gamma):\n",
    "    return 0.99*growth**(-gamma)"
   ]
  },
  {
   "cell_type": "code",
   "execution_count": 8,
   "metadata": {},
   "outputs": [],
   "source": [
    "columns = [\"epsilon\",\n",
    "           \"nu\",\n",
    "           \"growth\",]"
   ]
  },
  {
   "cell_type": "code",
   "execution_count": 9,
   "metadata": {},
   "outputs": [],
   "source": [
    "# Create dataframe to store simulation results\n",
    "\n",
    "Simulation_df = pd.DataFrame(index=range(n_simulations), columns=columns)\n",
    "\n",
    "Simulation_df[\"epsilon\"] = np.random.normal(0, 1, (n_simulations))\n",
    "\n",
    "Simulation_df[\"nu_draw\"] = np.random.uniform(0, 1, (n_simulations))\n",
    "\n",
    "Simulation_df[\"nu\"] = np.where(Simulation_df[\"nu_draw\"] <= 0.017, np.log(0.65), 0)\n",
    "\n",
    "Simulation_df[\"growth\"] = consumption_growth (Simulation_df[\"epsilon\"], Simulation_df[\"nu\"])\n"
   ]
  },
  {
   "cell_type": "code",
   "execution_count": 10,
   "metadata": {},
   "outputs": [],
   "source": [
    "gamma_range = np.arange(1, 4.1, 0.1)"
   ]
  },
  {
   "cell_type": "code",
   "execution_count": 11,
   "metadata": {},
   "outputs": [],
   "source": [
    "Pricing_Kernel_df = pd.DataFrame(index=range(n_simulations), columns=gamma_range)\n",
    "\n",
    "for gamma in gamma_range:\n",
    "    Pricing_Kernel_df.loc[:,gamma] = pricing_kernel (Simulation_df[\"growth\"], gamma)"
   ]
  },
  {
   "cell_type": "code",
   "execution_count": 12,
   "metadata": {},
   "outputs": [],
   "source": [
    "Pricing_Kernel_transposed_df = Pricing_Kernel_df.T"
   ]
  },
  {
   "cell_type": "code",
   "execution_count": 13,
   "metadata": {},
   "outputs": [],
   "source": [
    "Pricing_Kernel_transposed_df[\"mean\"]=Pricing_Kernel_transposed_df.mean(axis=1)\n",
    "Pricing_Kernel_transposed_df[\"std\"]=Pricing_Kernel_transposed_df.std(axis=1)\n",
    "Pricing_Kernel_transposed_df[\"volatility_ratio\"]=Pricing_Kernel_transposed_df[\"std\"]/Pricing_Kernel_transposed_df[\"mean\"]"
   ]
  },
  {
   "cell_type": "code",
   "execution_count": 14,
   "metadata": {},
   "outputs": [
    {
     "data": {
      "image/png": "[encoded data removed]",
      "text/plain": [
       "<Figure size 640x480 with 1 Axes>"
      ]
     },
     "metadata": {},
     "output_type": "display_data"
    }
   ],
   "source": [
    "plt.plot( Pricing_Kernel_transposed_df.index, \n",
    "         Pricing_Kernel_transposed_df[\"volatility_ratio\"],\n",
    "         color='blue', \n",
    "         linestyle='--', \n",
    "         label = \"Pricing kernel for power utility\")\n",
    "\n",
    "\n",
    "plt.yticks(np.arange(0, 0.6, 0.1))\n",
    "plt.xlim(0,4.1)\n",
    "plt.xlabel('Gamma')\n",
    "plt.ylabel('Volatility Ratio')\n",
    "plt.title('Pricing kernel for power utility')\n",
    "plt.legend()\n",
    "plt.show()"
   ]
  },
  {
   "cell_type": "markdown",
   "metadata": {},
   "source": [
    "### Smallest value of γ for which σM/μM > 0.4"
   ]
  },
  {
   "cell_type": "code",
   "execution_count": 15,
   "metadata": {},
   "outputs": [
    {
     "name": "stdout",
     "output_type": "stream",
     "text": [
      "Smallest value of  γ for which σM/μM > 0.4: 3.4\n"
     ]
    }
   ],
   "source": [
    "# Filter the DataFrame where 'volatility_ratio' > 0.4\n",
    "filtered_df = Pricing_Kernel_transposed_df[Pricing_Kernel_transposed_df[\"volatility_ratio\"] > 0.4]\n",
    "\n",
    "# Get the index of the minimum value from the filtered DataFrame\n",
    "min_index = filtered_df[\"volatility_ratio\"].idxmin()\n",
    "\n",
    "# Print the formatted index\n",
    "print(f\"Smallest value of  γ for which σM/μM > 0.4: {min_index:.1f}\")"
   ]
  },
  {
   "cell_type": "markdown",
   "metadata": {},
   "source": [
    "According to the Hansen–Jagannathan (H–J) bound, the volatility ratio of pricing kernel cannot be less than the highest sharpe ratio of all possible portfolios.  Considering that the US stock market has a Sharpe ratio of around 0.4, from the Hansen-Jagannthan bound, the volatility ratio (σM/μM) has to be equal to or higher than 0.4 as well, which leads to a minimum gamma value of 3.4. \n",
    "\n",
    " As gamma is the constant coefficient of investor's risk aversion for an investor with power utility of consumption, the economic significance of a gamma value of 3.4 is that assuming that consumption growth grows at 2% a year, the standard deviation of consumption growth is also 2%, disasters happen with a probability of 1.7% and when disasters occur, 35% of optimal consumption is lost, an investor with power utility of consumption should have a risk aversion of 3.4. Accordingly, there is no equity premium puzzle as 3.4 is a reasonable degree of risk aversion.\n",
    "\n",
    "The possiblity of rare disasters (1.7% chance of happening in any given year), greatly increases volatility and negative (left) skewness of consumption growth and so gamma is much smaller compared with a model that does not take into account the possibility of rare disasters.\n",
    "\n",
    "Still, σM/μM > 0.4 would mean that the pricing kernel is very volatile, as the value of the standard deviation of the pricing kernel is more than 40% that of the mean value of the pricing kernel.\n",
    "\n",
    "Accordingly, the intertemporal marginal rate of substitution, which acts as a pricing kernel (or stochastic discount factor) that relates price to final value would also be volatile.\n"
   ]
  }
 ],
 "metadata": {
  "kernelspec": {
   "display_name": ".venv",
   "language": "python",
   "name": "python3"
  },
  "language_info": {
   "codemirror_mode": {
    "name": "ipython",
    "version": 3
   },
   "file_extension": ".py",
   "mimetype": "text/x-python",
   "name": "python",
   "nbconvert_exporter": "python",
   "pygments_lexer": "ipython3",
   "version": "3.10.6"
  }
 },
 "nbformat": 4,
 "nbformat_minor": 2
}
