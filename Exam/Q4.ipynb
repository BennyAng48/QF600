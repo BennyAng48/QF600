{
 "cells": [
  {
   "cell_type": "markdown",
   "metadata": {},
   "source": [
    "# Q4"
   ]
  },
  {
   "cell_type": "markdown",
   "metadata": {},
   "source": [
    "The data files that you received contain monthly excess returns for five industry portfolios and the market portfolio. Using monthly excess returns for the five industry portfolios and the market portfolio:\n",
    "\n",
    "Calculate and report the Sharpe ratio and Treynor ratio for the five industry portfolios and the market portfolio.\n",
    "\n",
    "Using market return as target return, calculate and report the information ratio and Sortino ratio for the five industry portfolios.\n",
    "\n",
    "Briefly explain (in words) the economic significance of using the information ratio and Sortino ratio to measure the performance of well-diversified portfolios."
   ]
  },
  {
   "cell_type": "code",
   "execution_count": 1,
   "metadata": {},
   "outputs": [],
   "source": [
    "import matplotlib.pyplot as plt\n",
    "from matplotlib.pyplot import subplot, scatter, plot, axis\n",
    "import numpy as np\n",
    "import pandas as pd\n",
    "import seaborn as sns\n",
    "from scipy import stats\n",
    "import statsmodels.api as sm\n",
    "\n",
    "# Datetime\n",
    "import datetime as dt\n",
    "from datetime import datetime\n",
    "from datetime import timedelta\n",
    "\n",
    "import warnings\n",
    "warnings.filterwarnings(\"ignore\")"
   ]
  },
  {
   "cell_type": "code",
   "execution_count": 2,
   "metadata": {},
   "outputs": [
    {
     "data": {
      "text/html": [
       "<div>\n",
       "<style scoped>\n",
       "    .dataframe tbody tr th:only-of-type {\n",
       "        vertical-align: middle;\n",
       "    }\n",
       "\n",
       "    .dataframe tbody tr th {\n",
       "        vertical-align: top;\n",
       "    }\n",
       "\n",
       "    .dataframe thead th {\n",
       "        text-align: right;\n",
       "    }\n",
       "</style>\n",
       "<table border=\"1\" class=\"dataframe\">\n",
       "  <thead>\n",
       "    <tr style=\"text-align: right;\">\n",
       "      <th></th>\n",
       "      <th>Cnsmr</th>\n",
       "      <th>Manuf</th>\n",
       "      <th>HiTec</th>\n",
       "      <th>Hlth</th>\n",
       "      <th>Other</th>\n",
       "    </tr>\n",
       "    <tr>\n",
       "      <th>Date</th>\n",
       "      <th></th>\n",
       "      <th></th>\n",
       "      <th></th>\n",
       "      <th></th>\n",
       "      <th></th>\n",
       "    </tr>\n",
       "  </thead>\n",
       "  <tbody>\n",
       "    <tr>\n",
       "      <th>190101</th>\n",
       "      <td>-1.34</td>\n",
       "      <td>4.20</td>\n",
       "      <td>3.01</td>\n",
       "      <td>-0.71</td>\n",
       "      <td>1.92</td>\n",
       "    </tr>\n",
       "    <tr>\n",
       "      <th>190102</th>\n",
       "      <td>2.89</td>\n",
       "      <td>4.87</td>\n",
       "      <td>3.45</td>\n",
       "      <td>3.33</td>\n",
       "      <td>2.63</td>\n",
       "    </tr>\n",
       "    <tr>\n",
       "      <th>190103</th>\n",
       "      <td>1.89</td>\n",
       "      <td>1.81</td>\n",
       "      <td>-0.83</td>\n",
       "      <td>2.29</td>\n",
       "      <td>-0.86</td>\n",
       "    </tr>\n",
       "    <tr>\n",
       "      <th>190104</th>\n",
       "      <td>4.36</td>\n",
       "      <td>2.58</td>\n",
       "      <td>3.16</td>\n",
       "      <td>6.37</td>\n",
       "      <td>1.11</td>\n",
       "    </tr>\n",
       "    <tr>\n",
       "      <th>190105</th>\n",
       "      <td>0.92</td>\n",
       "      <td>-2.55</td>\n",
       "      <td>-1.13</td>\n",
       "      <td>1.96</td>\n",
       "      <td>-2.40</td>\n",
       "    </tr>\n",
       "    <tr>\n",
       "      <th>...</th>\n",
       "      <td>...</td>\n",
       "      <td>...</td>\n",
       "      <td>...</td>\n",
       "      <td>...</td>\n",
       "      <td>...</td>\n",
       "    </tr>\n",
       "    <tr>\n",
       "      <th>190608</th>\n",
       "      <td>1.71</td>\n",
       "      <td>0.80</td>\n",
       "      <td>4.36</td>\n",
       "      <td>2.85</td>\n",
       "      <td>2.59</td>\n",
       "    </tr>\n",
       "    <tr>\n",
       "      <th>190609</th>\n",
       "      <td>-3.28</td>\n",
       "      <td>-2.84</td>\n",
       "      <td>-6.16</td>\n",
       "      <td>-6.01</td>\n",
       "      <td>-2.26</td>\n",
       "    </tr>\n",
       "    <tr>\n",
       "      <th>190610</th>\n",
       "      <td>8.63</td>\n",
       "      <td>6.01</td>\n",
       "      <td>6.74</td>\n",
       "      <td>2.25</td>\n",
       "      <td>7.25</td>\n",
       "    </tr>\n",
       "    <tr>\n",
       "      <th>190611</th>\n",
       "      <td>0.51</td>\n",
       "      <td>-1.85</td>\n",
       "      <td>0.35</td>\n",
       "      <td>-4.29</td>\n",
       "      <td>-4.96</td>\n",
       "    </tr>\n",
       "    <tr>\n",
       "      <th>190612</th>\n",
       "      <td>1.53</td>\n",
       "      <td>5.85</td>\n",
       "      <td>1.93</td>\n",
       "      <td>6.61</td>\n",
       "      <td>4.87</td>\n",
       "    </tr>\n",
       "  </tbody>\n",
       "</table>\n",
       "<p>72 rows × 5 columns</p>\n",
       "</div>"
      ],
      "text/plain": [
       "        Cnsmr  Manuf  HiTec  Hlth   Other\n",
       "Date                                     \n",
       "190101  -1.34   4.20   3.01  -0.71   1.92\n",
       "190102   2.89   4.87   3.45   3.33   2.63\n",
       "190103   1.89   1.81  -0.83   2.29  -0.86\n",
       "190104   4.36   2.58   3.16   6.37   1.11\n",
       "190105   0.92  -2.55  -1.13   1.96  -2.40\n",
       "...       ...    ...    ...    ...    ...\n",
       "190608   1.71   0.80   4.36   2.85   2.59\n",
       "190609  -3.28  -2.84  -6.16  -6.01  -2.26\n",
       "190610   8.63   6.01   6.74   2.25   7.25\n",
       "190611   0.51  -1.85   0.35  -4.29  -4.96\n",
       "190612   1.53   5.85   1.93   6.61   4.87\n",
       "\n",
       "[72 rows x 5 columns]"
      ]
     },
     "execution_count": 2,
     "metadata": {},
     "output_type": "execute_result"
    }
   ],
   "source": [
    "Industry_Portfolio=pd.read_excel(\"Exam-Industry.xlsx\",index_col=0)\n",
    "Industry_Portfolio"
   ]
  },
  {
   "cell_type": "code",
   "execution_count": 3,
   "metadata": {},
   "outputs": [
    {
     "data": {
      "text/html": [
       "<div>\n",
       "<style scoped>\n",
       "    .dataframe tbody tr th:only-of-type {\n",
       "        vertical-align: middle;\n",
       "    }\n",
       "\n",
       "    .dataframe tbody tr th {\n",
       "        vertical-align: top;\n",
       "    }\n",
       "\n",
       "    .dataframe thead th {\n",
       "        text-align: right;\n",
       "    }\n",
       "</style>\n",
       "<table border=\"1\" class=\"dataframe\">\n",
       "  <thead>\n",
       "    <tr style=\"text-align: right;\">\n",
       "      <th></th>\n",
       "      <th>Market</th>\n",
       "    </tr>\n",
       "    <tr>\n",
       "      <th>Date</th>\n",
       "      <th></th>\n",
       "    </tr>\n",
       "  </thead>\n",
       "  <tbody>\n",
       "    <tr>\n",
       "      <th>190101</th>\n",
       "      <td>1.99</td>\n",
       "    </tr>\n",
       "    <tr>\n",
       "      <th>190102</th>\n",
       "      <td>3.49</td>\n",
       "    </tr>\n",
       "    <tr>\n",
       "      <th>190103</th>\n",
       "      <td>0.46</td>\n",
       "    </tr>\n",
       "    <tr>\n",
       "      <th>190104</th>\n",
       "      <td>2.90</td>\n",
       "    </tr>\n",
       "    <tr>\n",
       "      <th>190105</th>\n",
       "      <td>-1.27</td>\n",
       "    </tr>\n",
       "    <tr>\n",
       "      <th>...</th>\n",
       "      <td>...</td>\n",
       "    </tr>\n",
       "    <tr>\n",
       "      <th>190608</th>\n",
       "      <td>2.91</td>\n",
       "    </tr>\n",
       "    <tr>\n",
       "      <th>190609</th>\n",
       "      <td>-4.37</td>\n",
       "    </tr>\n",
       "    <tr>\n",
       "      <th>190610</th>\n",
       "      <td>6.65</td>\n",
       "    </tr>\n",
       "    <tr>\n",
       "      <th>190611</th>\n",
       "      <td>-1.55</td>\n",
       "    </tr>\n",
       "    <tr>\n",
       "      <th>190612</th>\n",
       "      <td>3.10</td>\n",
       "    </tr>\n",
       "  </tbody>\n",
       "</table>\n",
       "<p>72 rows × 1 columns</p>\n",
       "</div>"
      ],
      "text/plain": [
       "        Market\n",
       "Date          \n",
       "190101    1.99\n",
       "190102    3.49\n",
       "190103    0.46\n",
       "190104    2.90\n",
       "190105   -1.27\n",
       "...        ...\n",
       "190608    2.91\n",
       "190609   -4.37\n",
       "190610    6.65\n",
       "190611   -1.55\n",
       "190612    3.10\n",
       "\n",
       "[72 rows x 1 columns]"
      ]
     },
     "execution_count": 3,
     "metadata": {},
     "output_type": "execute_result"
    }
   ],
   "source": [
    "Market_Portfolio=pd.read_excel(\"Exam–Market.xlsx\",index_col=0)\n",
    "Market_Portfolio"
   ]
  },
  {
   "cell_type": "code",
   "execution_count": 4,
   "metadata": {},
   "outputs": [
    {
     "data": {
      "text/html": [
       "<div>\n",
       "<style scoped>\n",
       "    .dataframe tbody tr th:only-of-type {\n",
       "        vertical-align: middle;\n",
       "    }\n",
       "\n",
       "    .dataframe tbody tr th {\n",
       "        vertical-align: top;\n",
       "    }\n",
       "\n",
       "    .dataframe thead th {\n",
       "        text-align: right;\n",
       "    }\n",
       "</style>\n",
       "<table border=\"1\" class=\"dataframe\">\n",
       "  <thead>\n",
       "    <tr style=\"text-align: right;\">\n",
       "      <th></th>\n",
       "      <th>Cnsmr</th>\n",
       "      <th>Manuf</th>\n",
       "      <th>HiTec</th>\n",
       "      <th>Hlth</th>\n",
       "      <th>Other</th>\n",
       "      <th>Market</th>\n",
       "    </tr>\n",
       "    <tr>\n",
       "      <th>Date</th>\n",
       "      <th></th>\n",
       "      <th></th>\n",
       "      <th></th>\n",
       "      <th></th>\n",
       "      <th></th>\n",
       "      <th></th>\n",
       "    </tr>\n",
       "  </thead>\n",
       "  <tbody>\n",
       "    <tr>\n",
       "      <th>190101</th>\n",
       "      <td>-1.34</td>\n",
       "      <td>4.20</td>\n",
       "      <td>3.01</td>\n",
       "      <td>-0.71</td>\n",
       "      <td>1.92</td>\n",
       "      <td>1.99</td>\n",
       "    </tr>\n",
       "    <tr>\n",
       "      <th>190102</th>\n",
       "      <td>2.89</td>\n",
       "      <td>4.87</td>\n",
       "      <td>3.45</td>\n",
       "      <td>3.33</td>\n",
       "      <td>2.63</td>\n",
       "      <td>3.49</td>\n",
       "    </tr>\n",
       "    <tr>\n",
       "      <th>190103</th>\n",
       "      <td>1.89</td>\n",
       "      <td>1.81</td>\n",
       "      <td>-0.83</td>\n",
       "      <td>2.29</td>\n",
       "      <td>-0.86</td>\n",
       "      <td>0.46</td>\n",
       "    </tr>\n",
       "    <tr>\n",
       "      <th>190104</th>\n",
       "      <td>4.36</td>\n",
       "      <td>2.58</td>\n",
       "      <td>3.16</td>\n",
       "      <td>6.37</td>\n",
       "      <td>1.11</td>\n",
       "      <td>2.90</td>\n",
       "    </tr>\n",
       "    <tr>\n",
       "      <th>190105</th>\n",
       "      <td>0.92</td>\n",
       "      <td>-2.55</td>\n",
       "      <td>-1.13</td>\n",
       "      <td>1.96</td>\n",
       "      <td>-2.40</td>\n",
       "      <td>-1.27</td>\n",
       "    </tr>\n",
       "    <tr>\n",
       "      <th>...</th>\n",
       "      <td>...</td>\n",
       "      <td>...</td>\n",
       "      <td>...</td>\n",
       "      <td>...</td>\n",
       "      <td>...</td>\n",
       "      <td>...</td>\n",
       "    </tr>\n",
       "    <tr>\n",
       "      <th>190608</th>\n",
       "      <td>1.71</td>\n",
       "      <td>0.80</td>\n",
       "      <td>4.36</td>\n",
       "      <td>2.85</td>\n",
       "      <td>2.59</td>\n",
       "      <td>2.91</td>\n",
       "    </tr>\n",
       "    <tr>\n",
       "      <th>190609</th>\n",
       "      <td>-3.28</td>\n",
       "      <td>-2.84</td>\n",
       "      <td>-6.16</td>\n",
       "      <td>-6.01</td>\n",
       "      <td>-2.26</td>\n",
       "      <td>-4.37</td>\n",
       "    </tr>\n",
       "    <tr>\n",
       "      <th>190610</th>\n",
       "      <td>8.63</td>\n",
       "      <td>6.01</td>\n",
       "      <td>6.74</td>\n",
       "      <td>2.25</td>\n",
       "      <td>7.25</td>\n",
       "      <td>6.65</td>\n",
       "    </tr>\n",
       "    <tr>\n",
       "      <th>190611</th>\n",
       "      <td>0.51</td>\n",
       "      <td>-1.85</td>\n",
       "      <td>0.35</td>\n",
       "      <td>-4.29</td>\n",
       "      <td>-4.96</td>\n",
       "      <td>-1.55</td>\n",
       "    </tr>\n",
       "    <tr>\n",
       "      <th>190612</th>\n",
       "      <td>1.53</td>\n",
       "      <td>5.85</td>\n",
       "      <td>1.93</td>\n",
       "      <td>6.61</td>\n",
       "      <td>4.87</td>\n",
       "      <td>3.10</td>\n",
       "    </tr>\n",
       "  </tbody>\n",
       "</table>\n",
       "<p>72 rows × 6 columns</p>\n",
       "</div>"
      ],
      "text/plain": [
       "        Cnsmr  Manuf  HiTec  Hlth   Other  Market\n",
       "Date                                             \n",
       "190101  -1.34   4.20   3.01  -0.71   1.92    1.99\n",
       "190102   2.89   4.87   3.45   3.33   2.63    3.49\n",
       "190103   1.89   1.81  -0.83   2.29  -0.86    0.46\n",
       "190104   4.36   2.58   3.16   6.37   1.11    2.90\n",
       "190105   0.92  -2.55  -1.13   1.96  -2.40   -1.27\n",
       "...       ...    ...    ...    ...    ...     ...\n",
       "190608   1.71   0.80   4.36   2.85   2.59    2.91\n",
       "190609  -3.28  -2.84  -6.16  -6.01  -2.26   -4.37\n",
       "190610   8.63   6.01   6.74   2.25   7.25    6.65\n",
       "190611   0.51  -1.85   0.35  -4.29  -4.96   -1.55\n",
       "190612   1.53   5.85   1.93   6.61   4.87    3.10\n",
       "\n",
       "[72 rows x 6 columns]"
      ]
     },
     "execution_count": 4,
     "metadata": {},
     "output_type": "execute_result"
    }
   ],
   "source": [
    "# Merge the excess return dataframe and the Market_Portfolio together\n",
    "\n",
    "Merged_Portfolio = Industry_Portfolio.merge(Market_Portfolio,how='inner',left_index=True, right_index=True)\n",
    "Merged_Portfolio "
   ]
  },
  {
   "cell_type": "code",
   "execution_count": 5,
   "metadata": {},
   "outputs": [],
   "source": [
    "# Deduct market portfolio from Industry_Portfolio\n",
    "\n",
    "Deviation_from_target_df = pd.DataFrame(index = Industry_Portfolio.index,\n",
    "                                        columns= Industry_Portfolio.columns)\n",
    "\n",
    "for i in Industry_Portfolio.columns:\n",
    "    Deviation_from_target_df[str(i)] = Industry_Portfolio[i].subtract(Market_Portfolio[\"Market\"], fill_value=0)"
   ]
  },
  {
   "cell_type": "code",
   "execution_count": 6,
   "metadata": {},
   "outputs": [],
   "source": [
    "# Initialize the Market_model DataFrame with appropriate indices and columns\n",
    "Market_model=pd.DataFrame(index=[\"Jensen Alpha\",\"CAPM beta\"],\n",
    "                          columns=Industry_Portfolio.columns)\n",
    "\n",
    "# Loop through the first 10 columns of Merged_Portfolio (industry portfolios)\n",
    "for column in range(Market_model.shape[1]):\n",
    "    y = Merged_Portfolio.iloc[:, column]           # Dependent variable (industry portfolio excess return)\n",
    "    x = Merged_Portfolio[[\"Market\"]]                # Independent variables (Market excess return) # Check that it is \"Rm-Rf\"\n",
    "    \n",
    "    # Add a constant (intercept term) to the independent variables\n",
    "    x = sm.add_constant(x)\n",
    "    \n",
    "    # Perform linear regression\n",
    "    model = sm.OLS(y, x).fit()\n",
    "\n",
    "    # Store the regression results in the Market_model DataFrame\n",
    "    Market_model.iloc[0, column] = model.params['const']  # Intercept\n",
    "    Market_model.iloc[1, column] = model.params['Market']  # Market (Rm-Rf)"
   ]
  },
  {
   "cell_type": "code",
   "execution_count": 7,
   "metadata": {},
   "outputs": [],
   "source": [
    "Sharpe_df=pd.DataFrame(index=[\"Sharpe\"],\n",
    "                       columns=Industry_Portfolio.columns)\n",
    "\n",
    "for column in range(Sharpe_df.shape[1]):\n",
    "    Risk_Premium = Industry_Portfolio.iloc[:, column].mean()          \n",
    "    Standard_Deviation = Industry_Portfolio.iloc[:, column].std() \n",
    "    Sharpe_ratio=Risk_Premium/Standard_Deviation\n",
    "    Sharpe_df.iloc[0,column]=Sharpe_ratio\n",
    "    \n",
    "# Note: If Information ratio target is rf then it is the same as Sharpe ratio"
   ]
  },
  {
   "cell_type": "code",
   "execution_count": 8,
   "metadata": {},
   "outputs": [],
   "source": [
    "Sortino_df=pd.DataFrame(index=[\"Sortino\"],\n",
    "                        columns=Industry_Portfolio.columns)\n",
    "\n",
    "for column in range(Sortino_df.shape[1]):\n",
    "    # Calculate Risk Premium (mean return)\n",
    "    Risk_Premium = Industry_Portfolio.iloc[:, column].mean() \n",
    "    \n",
    "    # Calculate downside risk relative to market\n",
    "    Returns = Industry_Portfolio.iloc[:, column]  -  Merged_Portfolio[\"Market\"]      # Extract the returns for the column\n",
    "    downside_risk = np.where(Returns < 0, Returns ** 2, 0)  # Squared negative returns\n",
    "    \n",
    "    # Calculate Negative Standard Deviation (downside risk)\n",
    "    Negative_Standard_Deviation = np.sqrt(np.mean(downside_risk))\n",
    "    \n",
    "    # Calculate Sortino Ratio\n",
    "    if Negative_Standard_Deviation != 0:\n",
    "        Sortino_ratio = Risk_Premium / Negative_Standard_Deviation     \n",
    "    else:\n",
    "        Sortino_ratio = None\n",
    "    \n",
    "    Sortino_df.iloc[0,column]=Sortino_ratio"
   ]
  },
  {
   "cell_type": "code",
   "execution_count": 9,
   "metadata": {},
   "outputs": [
    {
     "data": {
      "text/html": [
       "<div>\n",
       "<style scoped>\n",
       "    .dataframe tbody tr th:only-of-type {\n",
       "        vertical-align: middle;\n",
       "    }\n",
       "\n",
       "    .dataframe tbody tr th {\n",
       "        vertical-align: top;\n",
       "    }\n",
       "\n",
       "    .dataframe thead th {\n",
       "        text-align: right;\n",
       "    }\n",
       "</style>\n",
       "<table border=\"1\" class=\"dataframe\">\n",
       "  <thead>\n",
       "    <tr style=\"text-align: right;\">\n",
       "      <th></th>\n",
       "      <th>Cnsmr</th>\n",
       "      <th>Manuf</th>\n",
       "      <th>HiTec</th>\n",
       "      <th>Hlth</th>\n",
       "      <th>Other</th>\n",
       "    </tr>\n",
       "  </thead>\n",
       "  <tbody>\n",
       "    <tr>\n",
       "      <th>Sortino</th>\n",
       "      <td>1.300954</td>\n",
       "      <td>0.888959</td>\n",
       "      <td>2.056452</td>\n",
       "      <td>0.778428</td>\n",
       "      <td>1.121221</td>\n",
       "    </tr>\n",
       "  </tbody>\n",
       "</table>\n",
       "</div>"
      ],
      "text/plain": [
       "            Cnsmr     Manuf     HiTec     Hlth      Other\n",
       "Sortino  1.300954  0.888959  2.056452  0.778428  1.121221"
      ]
     },
     "execution_count": 9,
     "metadata": {},
     "output_type": "execute_result"
    }
   ],
   "source": [
    "Sortino_df"
   ]
  },
  {
   "cell_type": "code",
   "execution_count": 10,
   "metadata": {},
   "outputs": [],
   "source": [
    "Treynor_df=pd.DataFrame(index=[\"Treynor\"],\n",
    "                        columns=Industry_Portfolio.columns)\n",
    "\n",
    "for column in range(Treynor_df.shape[1]):\n",
    "    column_name=Treynor_df.columns[column]\n",
    "    Risk_Premium = Industry_Portfolio.iloc[:, column].mean()          \n",
    "    Beta=Market_model.loc[\"CAPM beta\",column_name]\n",
    "    Treynor_ratio=Risk_Premium/Beta\n",
    "    Treynor_df.iloc[0,column]=Treynor_ratio"
   ]
  },
  {
   "cell_type": "code",
   "execution_count": 11,
   "metadata": {},
   "outputs": [],
   "source": [
    "Information_Ratio_df = pd.DataFrame({\"Mean\":Deviation_from_target_df.mean(),\"Std\":Deviation_from_target_df.std()})"
   ]
  },
  {
   "cell_type": "code",
   "execution_count": 12,
   "metadata": {},
   "outputs": [],
   "source": [
    "Information_Ratio_df[\"Information Ratio\"] = Information_Ratio_df[\"Mean\"]/Information_Ratio_df[\"Std\"]"
   ]
  },
  {
   "cell_type": "code",
   "execution_count": 13,
   "metadata": {},
   "outputs": [
    {
     "data": {
      "text/html": [
       "<div>\n",
       "<style scoped>\n",
       "    .dataframe tbody tr th:only-of-type {\n",
       "        vertical-align: middle;\n",
       "    }\n",
       "\n",
       "    .dataframe tbody tr th {\n",
       "        vertical-align: top;\n",
       "    }\n",
       "\n",
       "    .dataframe thead th {\n",
       "        text-align: right;\n",
       "    }\n",
       "</style>\n",
       "<table border=\"1\" class=\"dataframe\">\n",
       "  <thead>\n",
       "    <tr style=\"text-align: right;\">\n",
       "      <th></th>\n",
       "      <th>Mean</th>\n",
       "      <th>Std</th>\n",
       "      <th>Information Ratio</th>\n",
       "    </tr>\n",
       "  </thead>\n",
       "  <tbody>\n",
       "    <tr>\n",
       "      <th>Cnsmr</th>\n",
       "      <td>0.054028</td>\n",
       "      <td>1.573212</td>\n",
       "      <td>0.034342</td>\n",
       "    </tr>\n",
       "    <tr>\n",
       "      <th>Manuf</th>\n",
       "      <td>-0.286250</td>\n",
       "      <td>1.593589</td>\n",
       "      <td>-0.179626</td>\n",
       "    </tr>\n",
       "    <tr>\n",
       "      <th>HiTec</th>\n",
       "      <td>0.277222</td>\n",
       "      <td>1.372218</td>\n",
       "      <td>0.202025</td>\n",
       "    </tr>\n",
       "    <tr>\n",
       "      <th>Hlth</th>\n",
       "      <td>0.056944</td>\n",
       "      <td>2.578849</td>\n",
       "      <td>0.022081</td>\n",
       "    </tr>\n",
       "    <tr>\n",
       "      <th>Other</th>\n",
       "      <td>-0.028750</td>\n",
       "      <td>1.786309</td>\n",
       "      <td>-0.016095</td>\n",
       "    </tr>\n",
       "  </tbody>\n",
       "</table>\n",
       "</div>"
      ],
      "text/plain": [
       "           Mean       Std  Information Ratio\n",
       "Cnsmr  0.054028  1.573212           0.034342\n",
       "Manuf -0.286250  1.593589          -0.179626\n",
       "HiTec  0.277222  1.372218           0.202025\n",
       "Hlth   0.056944  2.578849           0.022081\n",
       "Other -0.028750  1.786309          -0.016095"
      ]
     },
     "execution_count": 13,
     "metadata": {},
     "output_type": "execute_result"
    }
   ],
   "source": [
    "Information_Ratio_df"
   ]
  },
  {
   "cell_type": "code",
   "execution_count": 14,
   "metadata": {},
   "outputs": [],
   "source": [
    "Performance_Measures=pd.concat([Sharpe_df,\n",
    "                                Sortino_df,\n",
    "                                Treynor_df,\n",
    "                                Information_Ratio_df])\n",
    "\n",
    "Performance_Measures=Performance_Measures.T"
   ]
  },
  {
   "cell_type": "code",
   "execution_count": 15,
   "metadata": {},
   "outputs": [
    {
     "name": "stderr",
     "output_type": "stream",
     "text": [
      "posx and posy should be finite values\n",
      "posx and posy should be finite values\n",
      "posx and posy should be finite values\n",
      "posx and posy should be finite values\n",
      "posx and posy should be finite values\n",
      "posx and posy should be finite values\n"
     ]
    },
    {
     "data": {
      "image/png": "[encoded data removed]",
      "text/plain": [
       "<Figure size 1000x600 with 1 Axes>"
      ]
     },
     "metadata": {},
     "output_type": "display_data"
    }
   ],
   "source": [
    "# Create a bar chart for the Sharpe ratios of each portfolio\n",
    "plt.figure(figsize=(10,6))  \n",
    "bars = plt.bar(Performance_Measures.index, Performance_Measures[\"Sharpe\"], color='green')\n",
    "\n",
    "plt.title(\"Sharpe Ratios of Portfolios\")\n",
    "plt.xlabel(\"Portfolio\")\n",
    "plt.ylabel(\"Sharpe Ratio\")\n",
    "\n",
    "# Add data labels\n",
    "for bar in bars:\n",
    "    yval = bar.get_height()  # Get the height of the bar\n",
    "    plt.text(bar.get_x() + bar.get_width()/2, yval, round(yval, 2), ha='center', va='bottom')\n",
    "\n",
    "plt.xticks(rotation=45)  \n",
    "plt.show()"
   ]
  },
  {
   "cell_type": "code",
   "execution_count": 16,
   "metadata": {},
   "outputs": [
    {
     "name": "stderr",
     "output_type": "stream",
     "text": [
      "posx and posy should be finite values\n",
      "posx and posy should be finite values\n",
      "posx and posy should be finite values\n",
      "posx and posy should be finite values\n",
      "posx and posy should be finite values\n",
      "posx and posy should be finite values\n"
     ]
    },
    {
     "data": {
      "image/png": "[encoded data removed]",
      "text/plain": [
       "<Figure size 1000x600 with 1 Axes>"
      ]
     },
     "metadata": {},
     "output_type": "display_data"
    }
   ],
   "source": [
    "# Create a bar chart for the Sortino ratios of each portfolio\n",
    "plt.figure(figsize=(10,6))  \n",
    "bars = plt.bar(Performance_Measures.index, Performance_Measures[\"Sortino\"], color='blue')\n",
    "\n",
    "plt.title(\"Sortino Ratios of Portfolios\")\n",
    "plt.xlabel(\"Portfolio\")\n",
    "plt.ylabel(\"Sortino Ratio\")\n",
    "\n",
    "# Add data labels\n",
    "for bar in bars:\n",
    "    yval = bar.get_height()  # Get the height of the bar\n",
    "    plt.text(bar.get_x() + bar.get_width()/2, yval, round(yval, 2), ha='center', va='bottom')\n",
    "\n",
    "plt.xticks(rotation=45)  \n",
    "plt.show()"
   ]
  },
  {
   "cell_type": "code",
   "execution_count": 17,
   "metadata": {},
   "outputs": [
    {
     "name": "stderr",
     "output_type": "stream",
     "text": [
      "posx and posy should be finite values\n",
      "posx and posy should be finite values\n",
      "posx and posy should be finite values\n",
      "posx and posy should be finite values\n",
      "posx and posy should be finite values\n",
      "posx and posy should be finite values\n"
     ]
    },
    {
     "data": {
      "image/png": "[encoded data removed]",
      "text/plain": [
       "<Figure size 1000x600 with 1 Axes>"
      ]
     },
     "metadata": {},
     "output_type": "display_data"
    }
   ],
   "source": [
    "# Create a bar chart for the Treynor ratios of each portfolio\n",
    "plt.figure(figsize=(10,6))  \n",
    "bars = plt.bar(Performance_Measures.index, Performance_Measures[\"Treynor\"], color='red')\n",
    "\n",
    "plt.title(\"Treynor Ratios of Portfolios\")\n",
    "plt.xlabel(\"Portfolio\")\n",
    "plt.ylabel(\"Treynor Ratio\")\n",
    "\n",
    "# Add data labels\n",
    "for bar in bars:\n",
    "    yval = bar.get_height()  # Get the height of the bar\n",
    "    plt.text(bar.get_x() + bar.get_width()/2, yval, round(yval, 2), ha='center', va='bottom')\n",
    "\n",
    "plt.xticks(rotation=45)  \n",
    "plt.show()"
   ]
  },
  {
   "cell_type": "code",
   "execution_count": 18,
   "metadata": {},
   "outputs": [
    {
     "data": {
      "image/png": "[encoded data removed]",
      "text/plain": [
       "<Figure size 1000x600 with 1 Axes>"
      ]
     },
     "metadata": {},
     "output_type": "display_data"
    }
   ],
   "source": [
    "# Create a bar chart for the Information Ratio of each portfolio\n",
    "plt.figure(figsize=(10,6))  \n",
    "bars = plt.bar(Information_Ratio_df.index, Information_Ratio_df[\"Information Ratio\"], color='pink')\n",
    "\n",
    "plt.title(\"Information Ratio of Portfolios\")\n",
    "plt.xlabel(\"Portfolio\")\n",
    "plt.ylabel(\"Information Ratio\")\n",
    "\n",
    "# Add data labels\n",
    "for bar in bars:\n",
    "    yval = bar.get_height()  # Get the height of the bar\n",
    "    plt.text(bar.get_x() + bar.get_width()/2, yval, round(yval, 2), ha='center', va='bottom')\n",
    "\n",
    "plt.xticks(rotation=45)  \n",
    "plt.show()"
   ]
  },
  {
   "cell_type": "markdown",
   "metadata": {},
   "source": [
    "Briefly explain (in words) the economic significance of using the information ratio and Sortino ratio to measure the performance of well-diversified portfolios."
   ]
  },
  {
   "cell_type": "markdown",
   "metadata": {},
   "source": [
    "Information ratio is expected deviation from target (or benchmark) return, per unit of tracking error. It measures the ability of the fund manager to exceed target return, relative to the amount of tracking error. It is often used to evaluate fund managers who follow \"enhanced indexing\" strategy by overweighting or underweighting selected components of stock index. When comparing two fund managers, the manager with higher information ratio has the better ability to exceed target return for every unit of tracking error. In well diversified portfolios, the higher the Information ratio, the better the portfolio is performing."
   ]
  },
  {
   "cell_type": "markdown",
   "metadata": {},
   "source": [
    "Sortino ratio measures the portfolio's expected deviation from the benchmark return, per unit of below-target semi-deviation. Below-target semi-deviation only considers risk that realised return on investment falls below the target return. As below-target semi-variance is a measure of downside risk, Sortino ratio is able to distinguish between asymmetric distributions with same variance but different skewness. As investors are more sensitive to downside volatility compared with upside volatility, Sortino ratio maybe more informative compared to the Sharpe ratio, especially when the return distribution is not normal. Returns with the same variance but different skewness would have the same Sharpe Ratio but different Sortino ratio.  In well diversified portfolios, the higher the Sortino ratio, the better the portfolio is performing."
   ]
  }
 ],
 "metadata": {
  "kernelspec": {
   "display_name": ".venv",
   "language": "python",
   "name": "python3"
  },
  "language_info": {
   "codemirror_mode": {
    "name": "ipython",
    "version": 3
   },
   "file_extension": ".py",
   "mimetype": "text/x-python",
   "name": "python",
   "nbconvert_exporter": "python",
   "pygments_lexer": "ipython3",
   "version": "3.10.6"
  }
 },
 "nbformat": 4,
 "nbformat_minor": 2
}
