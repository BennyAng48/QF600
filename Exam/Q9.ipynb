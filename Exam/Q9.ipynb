{
 "cells": [
  {
   "cell_type": "markdown",
   "metadata": {},
   "source": [
    "# Q9"
   ]
  },
  {
   "cell_type": "markdown",
   "metadata": {},
   "source": [
    "The data files that you received contain monthly excess returns for five industry portfolios and the market portfolio. Using monthly excess returns for the five industry portfolios and the market portfolio:\n",
    "\n",
    "Calculate and report the risk premiums and β coefficients for the five industry portfolios.\n",
    "\n",
    "Estimate the intercept and slope coefficients for the security market line (SML), and plot the SML with risk premium on the vertical axis and β on the horizontal axis. This plot must cover the range from β = 0 to 1.6 on the horizontal axis.\n",
    "\n",
    "Also plot the positions of the five industry portfolios and the market portfolio, on the same graph as the SML.\n",
    "\n",
    "Briefly explain (in words) the economic interpretation for the intercept and slope coefficients of the SML."
   ]
  },
  {
   "cell_type": "code",
   "execution_count": 6,
   "metadata": {},
   "outputs": [],
   "source": [
    "import matplotlib.pyplot as plt\n",
    "from matplotlib.pyplot import subplot, scatter, plot, axis\n",
    "import numpy as np\n",
    "import pandas as pd\n",
    "import seaborn as sns\n",
    "from scipy import stats\n",
    "import statsmodels.api as sm\n",
    "\n",
    "# Datetime\n",
    "import datetime as dt\n",
    "from datetime import datetime\n",
    "from datetime import timedelta\n",
    "\n",
    "import warnings\n",
    "warnings.filterwarnings(\"ignore\")"
   ]
  },
  {
   "cell_type": "code",
   "execution_count": 7,
   "metadata": {},
   "outputs": [
    {
     "data": {
      "text/html": [
       "<div>\n",
       "<style scoped>\n",
       "    .dataframe tbody tr th:only-of-type {\n",
       "        vertical-align: middle;\n",
       "    }\n",
       "\n",
       "    .dataframe tbody tr th {\n",
       "        vertical-align: top;\n",
       "    }\n",
       "\n",
       "    .dataframe thead th {\n",
       "        text-align: right;\n",
       "    }\n",
       "</style>\n",
       "<table border=\"1\" class=\"dataframe\">\n",
       "  <thead>\n",
       "    <tr style=\"text-align: right;\">\n",
       "      <th></th>\n",
       "      <th>Cnsmr</th>\n",
       "      <th>Manuf</th>\n",
       "      <th>HiTec</th>\n",
       "      <th>Hlth</th>\n",
       "      <th>Other</th>\n",
       "    </tr>\n",
       "    <tr>\n",
       "      <th>Date</th>\n",
       "      <th></th>\n",
       "      <th></th>\n",
       "      <th></th>\n",
       "      <th></th>\n",
       "      <th></th>\n",
       "    </tr>\n",
       "  </thead>\n",
       "  <tbody>\n",
       "    <tr>\n",
       "      <th>190101</th>\n",
       "      <td>-1.34</td>\n",
       "      <td>4.20</td>\n",
       "      <td>3.01</td>\n",
       "      <td>-0.71</td>\n",
       "      <td>1.92</td>\n",
       "    </tr>\n",
       "    <tr>\n",
       "      <th>190102</th>\n",
       "      <td>2.89</td>\n",
       "      <td>4.87</td>\n",
       "      <td>3.45</td>\n",
       "      <td>3.33</td>\n",
       "      <td>2.63</td>\n",
       "    </tr>\n",
       "    <tr>\n",
       "      <th>190103</th>\n",
       "      <td>1.89</td>\n",
       "      <td>1.81</td>\n",
       "      <td>-0.83</td>\n",
       "      <td>2.29</td>\n",
       "      <td>-0.86</td>\n",
       "    </tr>\n",
       "    <tr>\n",
       "      <th>190104</th>\n",
       "      <td>4.36</td>\n",
       "      <td>2.58</td>\n",
       "      <td>3.16</td>\n",
       "      <td>6.37</td>\n",
       "      <td>1.11</td>\n",
       "    </tr>\n",
       "    <tr>\n",
       "      <th>190105</th>\n",
       "      <td>0.92</td>\n",
       "      <td>-2.55</td>\n",
       "      <td>-1.13</td>\n",
       "      <td>1.96</td>\n",
       "      <td>-2.40</td>\n",
       "    </tr>\n",
       "    <tr>\n",
       "      <th>...</th>\n",
       "      <td>...</td>\n",
       "      <td>...</td>\n",
       "      <td>...</td>\n",
       "      <td>...</td>\n",
       "      <td>...</td>\n",
       "    </tr>\n",
       "    <tr>\n",
       "      <th>190608</th>\n",
       "      <td>1.71</td>\n",
       "      <td>0.80</td>\n",
       "      <td>4.36</td>\n",
       "      <td>2.85</td>\n",
       "      <td>2.59</td>\n",
       "    </tr>\n",
       "    <tr>\n",
       "      <th>190609</th>\n",
       "      <td>-3.28</td>\n",
       "      <td>-2.84</td>\n",
       "      <td>-6.16</td>\n",
       "      <td>-6.01</td>\n",
       "      <td>-2.26</td>\n",
       "    </tr>\n",
       "    <tr>\n",
       "      <th>190610</th>\n",
       "      <td>8.63</td>\n",
       "      <td>6.01</td>\n",
       "      <td>6.74</td>\n",
       "      <td>2.25</td>\n",
       "      <td>7.25</td>\n",
       "    </tr>\n",
       "    <tr>\n",
       "      <th>190611</th>\n",
       "      <td>0.51</td>\n",
       "      <td>-1.85</td>\n",
       "      <td>0.35</td>\n",
       "      <td>-4.29</td>\n",
       "      <td>-4.96</td>\n",
       "    </tr>\n",
       "    <tr>\n",
       "      <th>190612</th>\n",
       "      <td>1.53</td>\n",
       "      <td>5.85</td>\n",
       "      <td>1.93</td>\n",
       "      <td>6.61</td>\n",
       "      <td>4.87</td>\n",
       "    </tr>\n",
       "  </tbody>\n",
       "</table>\n",
       "<p>72 rows × 5 columns</p>\n",
       "</div>"
      ],
      "text/plain": [
       "        Cnsmr  Manuf  HiTec  Hlth   Other\n",
       "Date                                     \n",
       "190101  -1.34   4.20   3.01  -0.71   1.92\n",
       "190102   2.89   4.87   3.45   3.33   2.63\n",
       "190103   1.89   1.81  -0.83   2.29  -0.86\n",
       "190104   4.36   2.58   3.16   6.37   1.11\n",
       "190105   0.92  -2.55  -1.13   1.96  -2.40\n",
       "...       ...    ...    ...    ...    ...\n",
       "190608   1.71   0.80   4.36   2.85   2.59\n",
       "190609  -3.28  -2.84  -6.16  -6.01  -2.26\n",
       "190610   8.63   6.01   6.74   2.25   7.25\n",
       "190611   0.51  -1.85   0.35  -4.29  -4.96\n",
       "190612   1.53   5.85   1.93   6.61   4.87\n",
       "\n",
       "[72 rows x 5 columns]"
      ]
     },
     "execution_count": 7,
     "metadata": {},
     "output_type": "execute_result"
    }
   ],
   "source": [
    "Industry_Portfolio=pd.read_excel(\"Exam-Industry.xlsx\",index_col=0)\n",
    "Industry_Portfolio"
   ]
  },
  {
   "cell_type": "code",
   "execution_count": 8,
   "metadata": {},
   "outputs": [
    {
     "data": {
      "text/html": [
       "<div>\n",
       "<style scoped>\n",
       "    .dataframe tbody tr th:only-of-type {\n",
       "        vertical-align: middle;\n",
       "    }\n",
       "\n",
       "    .dataframe tbody tr th {\n",
       "        vertical-align: top;\n",
       "    }\n",
       "\n",
       "    .dataframe thead th {\n",
       "        text-align: right;\n",
       "    }\n",
       "</style>\n",
       "<table border=\"1\" class=\"dataframe\">\n",
       "  <thead>\n",
       "    <tr style=\"text-align: right;\">\n",
       "      <th></th>\n",
       "      <th>Market</th>\n",
       "    </tr>\n",
       "    <tr>\n",
       "      <th>Date</th>\n",
       "      <th></th>\n",
       "    </tr>\n",
       "  </thead>\n",
       "  <tbody>\n",
       "    <tr>\n",
       "      <th>190101</th>\n",
       "      <td>1.99</td>\n",
       "    </tr>\n",
       "    <tr>\n",
       "      <th>190102</th>\n",
       "      <td>3.49</td>\n",
       "    </tr>\n",
       "    <tr>\n",
       "      <th>190103</th>\n",
       "      <td>0.46</td>\n",
       "    </tr>\n",
       "    <tr>\n",
       "      <th>190104</th>\n",
       "      <td>2.90</td>\n",
       "    </tr>\n",
       "    <tr>\n",
       "      <th>190105</th>\n",
       "      <td>-1.27</td>\n",
       "    </tr>\n",
       "    <tr>\n",
       "      <th>...</th>\n",
       "      <td>...</td>\n",
       "    </tr>\n",
       "    <tr>\n",
       "      <th>190608</th>\n",
       "      <td>2.91</td>\n",
       "    </tr>\n",
       "    <tr>\n",
       "      <th>190609</th>\n",
       "      <td>-4.37</td>\n",
       "    </tr>\n",
       "    <tr>\n",
       "      <th>190610</th>\n",
       "      <td>6.65</td>\n",
       "    </tr>\n",
       "    <tr>\n",
       "      <th>190611</th>\n",
       "      <td>-1.55</td>\n",
       "    </tr>\n",
       "    <tr>\n",
       "      <th>190612</th>\n",
       "      <td>3.10</td>\n",
       "    </tr>\n",
       "  </tbody>\n",
       "</table>\n",
       "<p>72 rows × 1 columns</p>\n",
       "</div>"
      ],
      "text/plain": [
       "        Market\n",
       "Date          \n",
       "190101    1.99\n",
       "190102    3.49\n",
       "190103    0.46\n",
       "190104    2.90\n",
       "190105   -1.27\n",
       "...        ...\n",
       "190608    2.91\n",
       "190609   -4.37\n",
       "190610    6.65\n",
       "190611   -1.55\n",
       "190612    3.10\n",
       "\n",
       "[72 rows x 1 columns]"
      ]
     },
     "execution_count": 8,
     "metadata": {},
     "output_type": "execute_result"
    }
   ],
   "source": [
    "Market_Portfolio=pd.read_excel(\"Exam–Market.xlsx\",index_col=0)\n",
    "Market_Portfolio"
   ]
  },
  {
   "cell_type": "code",
   "execution_count": 9,
   "metadata": {},
   "outputs": [
    {
     "data": {
      "text/html": [
       "<div>\n",
       "<style scoped>\n",
       "    .dataframe tbody tr th:only-of-type {\n",
       "        vertical-align: middle;\n",
       "    }\n",
       "\n",
       "    .dataframe tbody tr th {\n",
       "        vertical-align: top;\n",
       "    }\n",
       "\n",
       "    .dataframe thead th {\n",
       "        text-align: right;\n",
       "    }\n",
       "</style>\n",
       "<table border=\"1\" class=\"dataframe\">\n",
       "  <thead>\n",
       "    <tr style=\"text-align: right;\">\n",
       "      <th></th>\n",
       "      <th>Cnsmr</th>\n",
       "      <th>Manuf</th>\n",
       "      <th>HiTec</th>\n",
       "      <th>Hlth</th>\n",
       "      <th>Other</th>\n",
       "      <th>Market</th>\n",
       "    </tr>\n",
       "    <tr>\n",
       "      <th>Date</th>\n",
       "      <th></th>\n",
       "      <th></th>\n",
       "      <th></th>\n",
       "      <th></th>\n",
       "      <th></th>\n",
       "      <th></th>\n",
       "    </tr>\n",
       "  </thead>\n",
       "  <tbody>\n",
       "    <tr>\n",
       "      <th>190101</th>\n",
       "      <td>-1.34</td>\n",
       "      <td>4.20</td>\n",
       "      <td>3.01</td>\n",
       "      <td>-0.71</td>\n",
       "      <td>1.92</td>\n",
       "      <td>1.99</td>\n",
       "    </tr>\n",
       "    <tr>\n",
       "      <th>190102</th>\n",
       "      <td>2.89</td>\n",
       "      <td>4.87</td>\n",
       "      <td>3.45</td>\n",
       "      <td>3.33</td>\n",
       "      <td>2.63</td>\n",
       "      <td>3.49</td>\n",
       "    </tr>\n",
       "    <tr>\n",
       "      <th>190103</th>\n",
       "      <td>1.89</td>\n",
       "      <td>1.81</td>\n",
       "      <td>-0.83</td>\n",
       "      <td>2.29</td>\n",
       "      <td>-0.86</td>\n",
       "      <td>0.46</td>\n",
       "    </tr>\n",
       "    <tr>\n",
       "      <th>190104</th>\n",
       "      <td>4.36</td>\n",
       "      <td>2.58</td>\n",
       "      <td>3.16</td>\n",
       "      <td>6.37</td>\n",
       "      <td>1.11</td>\n",
       "      <td>2.90</td>\n",
       "    </tr>\n",
       "    <tr>\n",
       "      <th>190105</th>\n",
       "      <td>0.92</td>\n",
       "      <td>-2.55</td>\n",
       "      <td>-1.13</td>\n",
       "      <td>1.96</td>\n",
       "      <td>-2.40</td>\n",
       "      <td>-1.27</td>\n",
       "    </tr>\n",
       "    <tr>\n",
       "      <th>...</th>\n",
       "      <td>...</td>\n",
       "      <td>...</td>\n",
       "      <td>...</td>\n",
       "      <td>...</td>\n",
       "      <td>...</td>\n",
       "      <td>...</td>\n",
       "    </tr>\n",
       "    <tr>\n",
       "      <th>190608</th>\n",
       "      <td>1.71</td>\n",
       "      <td>0.80</td>\n",
       "      <td>4.36</td>\n",
       "      <td>2.85</td>\n",
       "      <td>2.59</td>\n",
       "      <td>2.91</td>\n",
       "    </tr>\n",
       "    <tr>\n",
       "      <th>190609</th>\n",
       "      <td>-3.28</td>\n",
       "      <td>-2.84</td>\n",
       "      <td>-6.16</td>\n",
       "      <td>-6.01</td>\n",
       "      <td>-2.26</td>\n",
       "      <td>-4.37</td>\n",
       "    </tr>\n",
       "    <tr>\n",
       "      <th>190610</th>\n",
       "      <td>8.63</td>\n",
       "      <td>6.01</td>\n",
       "      <td>6.74</td>\n",
       "      <td>2.25</td>\n",
       "      <td>7.25</td>\n",
       "      <td>6.65</td>\n",
       "    </tr>\n",
       "    <tr>\n",
       "      <th>190611</th>\n",
       "      <td>0.51</td>\n",
       "      <td>-1.85</td>\n",
       "      <td>0.35</td>\n",
       "      <td>-4.29</td>\n",
       "      <td>-4.96</td>\n",
       "      <td>-1.55</td>\n",
       "    </tr>\n",
       "    <tr>\n",
       "      <th>190612</th>\n",
       "      <td>1.53</td>\n",
       "      <td>5.85</td>\n",
       "      <td>1.93</td>\n",
       "      <td>6.61</td>\n",
       "      <td>4.87</td>\n",
       "      <td>3.10</td>\n",
       "    </tr>\n",
       "  </tbody>\n",
       "</table>\n",
       "<p>72 rows × 6 columns</p>\n",
       "</div>"
      ],
      "text/plain": [
       "        Cnsmr  Manuf  HiTec  Hlth   Other  Market\n",
       "Date                                             \n",
       "190101  -1.34   4.20   3.01  -0.71   1.92    1.99\n",
       "190102   2.89   4.87   3.45   3.33   2.63    3.49\n",
       "190103   1.89   1.81  -0.83   2.29  -0.86    0.46\n",
       "190104   4.36   2.58   3.16   6.37   1.11    2.90\n",
       "190105   0.92  -2.55  -1.13   1.96  -2.40   -1.27\n",
       "...       ...    ...    ...    ...    ...     ...\n",
       "190608   1.71   0.80   4.36   2.85   2.59    2.91\n",
       "190609  -3.28  -2.84  -6.16  -6.01  -2.26   -4.37\n",
       "190610   8.63   6.01   6.74   2.25   7.25    6.65\n",
       "190611   0.51  -1.85   0.35  -4.29  -4.96   -1.55\n",
       "190612   1.53   5.85   1.93   6.61   4.87    3.10\n",
       "\n",
       "[72 rows x 6 columns]"
      ]
     },
     "execution_count": 9,
     "metadata": {},
     "output_type": "execute_result"
    }
   ],
   "source": [
    "Merged_Portfolio = Industry_Portfolio.merge(Market_Portfolio,how='inner',left_index=True, right_index=True)\n",
    "Merged_Portfolio"
   ]
  },
  {
   "cell_type": "markdown",
   "metadata": {},
   "source": [
    "# Risk premium for industry portfolios"
   ]
  },
  {
   "cell_type": "code",
   "execution_count": 12,
   "metadata": {},
   "outputs": [
    {
     "data": {
      "text/html": [
       "<div>\n",
       "<style scoped>\n",
       "    .dataframe tbody tr th:only-of-type {\n",
       "        vertical-align: middle;\n",
       "    }\n",
       "\n",
       "    .dataframe tbody tr th {\n",
       "        vertical-align: top;\n",
       "    }\n",
       "\n",
       "    .dataframe thead th {\n",
       "        text-align: right;\n",
       "    }\n",
       "</style>\n",
       "<table border=\"1\" class=\"dataframe\">\n",
       "  <thead>\n",
       "    <tr style=\"text-align: right;\">\n",
       "      <th></th>\n",
       "      <th>Mean</th>\n",
       "    </tr>\n",
       "  </thead>\n",
       "  <tbody>\n",
       "    <tr>\n",
       "      <th>Cnsmr</th>\n",
       "      <td>1.449167</td>\n",
       "    </tr>\n",
       "    <tr>\n",
       "      <th>Manuf</th>\n",
       "      <td>1.108889</td>\n",
       "    </tr>\n",
       "    <tr>\n",
       "      <th>HiTec</th>\n",
       "      <td>1.672361</td>\n",
       "    </tr>\n",
       "    <tr>\n",
       "      <th>Hlth</th>\n",
       "      <td>1.452083</td>\n",
       "    </tr>\n",
       "    <tr>\n",
       "      <th>Other</th>\n",
       "      <td>1.366389</td>\n",
       "    </tr>\n",
       "  </tbody>\n",
       "</table>\n",
       "</div>"
      ],
      "text/plain": [
       "           Mean\n",
       "Cnsmr  1.449167\n",
       "Manuf  1.108889\n",
       "HiTec  1.672361\n",
       "Hlth   1.452083\n",
       "Other  1.366389"
      ]
     },
     "execution_count": 12,
     "metadata": {},
     "output_type": "execute_result"
    }
   ],
   "source": [
    "Summary = pd.DataFrame({\"Mean\":Industry_Portfolio.mean()})\n",
    "Summary"
   ]
  },
  {
   "cell_type": "code",
   "execution_count": 10,
   "metadata": {},
   "outputs": [
    {
     "data": {
      "text/html": [
       "<div>\n",
       "<style scoped>\n",
       "    .dataframe tbody tr th:only-of-type {\n",
       "        vertical-align: middle;\n",
       "    }\n",
       "\n",
       "    .dataframe tbody tr th {\n",
       "        vertical-align: top;\n",
       "    }\n",
       "\n",
       "    .dataframe thead th {\n",
       "        text-align: right;\n",
       "    }\n",
       "</style>\n",
       "<table border=\"1\" class=\"dataframe\">\n",
       "  <thead>\n",
       "    <tr style=\"text-align: right;\">\n",
       "      <th></th>\n",
       "      <th>Cnsmr</th>\n",
       "      <th>Manuf</th>\n",
       "      <th>HiTec</th>\n",
       "      <th>Hlth</th>\n",
       "      <th>Other</th>\n",
       "    </tr>\n",
       "  </thead>\n",
       "  <tbody>\n",
       "    <tr>\n",
       "      <th>Intercept</th>\n",
       "      <td>0.328254</td>\n",
       "      <td>-0.347052</td>\n",
       "      <td>0.244585</td>\n",
       "      <td>0.384346</td>\n",
       "      <td>-0.234594</td>\n",
       "    </tr>\n",
       "    <tr>\n",
       "      <th>Slope</th>\n",
       "      <td>0.803442</td>\n",
       "      <td>1.043581</td>\n",
       "      <td>1.023394</td>\n",
       "      <td>0.765327</td>\n",
       "      <td>1.147543</td>\n",
       "    </tr>\n",
       "  </tbody>\n",
       "</table>\n",
       "</div>"
      ],
      "text/plain": [
       "              Cnsmr     Manuf     HiTec     Hlth      Other\n",
       "Intercept  0.328254 -0.347052  0.244585  0.384346 -0.234594\n",
       "Slope      0.803442  1.043581  1.023394  0.765327  1.147543"
      ]
     },
     "execution_count": 10,
     "metadata": {},
     "output_type": "execute_result"
    }
   ],
   "source": [
    "# For regression\n",
    "\n",
    "# Initialize the Market_model DataFrame with appropriate indices and columns\n",
    "Market_model=pd.DataFrame(index=[\"Intercept\",\"Slope\"],columns=Industry_Portfolio.columns)\n",
    "\n",
    "# Loop through each column of Excess_Return_Portfolio (except the last one, which is the market portfolio)\n",
    "for column in range(Market_model.shape[1]):\n",
    "    y = Merged_Portfolio.iloc[:,column]                       # Dependent variable (industry portfolio)\n",
    "    x = Merged_Portfolio.iloc[:,-1]                           # Independent variable (market portfolio, assumed to be the last column)\n",
    "    \n",
    "    # Perform linear regression between the column and the market portfolio\n",
    "    slope, intercept, r, p, std_err = stats.linregress(x, y)\n",
    "\n",
    "    # Store the intercept and slope in the Market_model DataFrame\n",
    "    Market_model.iloc[0,column]=intercept\n",
    "    Market_model.iloc[1,column]=slope\n",
    "\n",
    "Market_model"
   ]
  },
  {
   "cell_type": "code",
   "execution_count": 11,
   "metadata": {},
   "outputs": [
    {
     "data": {
      "text/html": [
       "<div>\n",
       "<style scoped>\n",
       "    .dataframe tbody tr th:only-of-type {\n",
       "        vertical-align: middle;\n",
       "    }\n",
       "\n",
       "    .dataframe tbody tr th {\n",
       "        vertical-align: top;\n",
       "    }\n",
       "\n",
       "    .dataframe thead th {\n",
       "        text-align: right;\n",
       "    }\n",
       "</style>\n",
       "<table border=\"1\" class=\"dataframe\">\n",
       "  <thead>\n",
       "    <tr style=\"text-align: right;\">\n",
       "      <th></th>\n",
       "      <th>Intercept</th>\n",
       "      <th>Slope</th>\n",
       "    </tr>\n",
       "  </thead>\n",
       "  <tbody>\n",
       "    <tr>\n",
       "      <th>Cnsmr</th>\n",
       "      <td>0.328254</td>\n",
       "      <td>0.803442</td>\n",
       "    </tr>\n",
       "    <tr>\n",
       "      <th>Manuf</th>\n",
       "      <td>-0.347052</td>\n",
       "      <td>1.043581</td>\n",
       "    </tr>\n",
       "    <tr>\n",
       "      <th>HiTec</th>\n",
       "      <td>0.244585</td>\n",
       "      <td>1.023394</td>\n",
       "    </tr>\n",
       "    <tr>\n",
       "      <th>Hlth</th>\n",
       "      <td>0.384346</td>\n",
       "      <td>0.765327</td>\n",
       "    </tr>\n",
       "    <tr>\n",
       "      <th>Other</th>\n",
       "      <td>-0.234594</td>\n",
       "      <td>1.147543</td>\n",
       "    </tr>\n",
       "  </tbody>\n",
       "</table>\n",
       "</div>"
      ],
      "text/plain": [
       "      Intercept     Slope\n",
       "Cnsmr  0.328254  0.803442\n",
       "Manuf -0.347052  1.043581\n",
       "HiTec  0.244585  1.023394\n",
       "Hlth   0.384346  0.765327\n",
       "Other -0.234594  1.147543"
      ]
     },
     "execution_count": 11,
     "metadata": {},
     "output_type": "execute_result"
    }
   ],
   "source": [
    "Market_model.T"
   ]
  },
  {
   "cell_type": "markdown",
   "metadata": {},
   "source": [
    "# Beta coefficients for industry portfolio"
   ]
  },
  {
   "cell_type": "code",
   "execution_count": 13,
   "metadata": {},
   "outputs": [
    {
     "data": {
      "text/plain": [
       "Cnsmr    0.803442\n",
       "Manuf    1.043581\n",
       "HiTec    1.023394\n",
       "Hlth     0.765327\n",
       "Other    1.147543\n",
       "Name: Slope, dtype: object"
      ]
     },
     "execution_count": 13,
     "metadata": {},
     "output_type": "execute_result"
    }
   ],
   "source": [
    "Market_model.T[\"Slope\"]"
   ]
  },
  {
   "cell_type": "code",
   "execution_count": null,
   "metadata": {},
   "outputs": [
    {
     "data": {
      "text/plain": [
       "Cnsmr     1.449167\n",
       "Manuf     1.108889\n",
       "HiTec     1.672361\n",
       "Hlth      1.452083\n",
       "Other     1.366389\n",
       "Market    1.395139\n",
       "dtype: float64"
      ]
     },
     "execution_count": 14,
     "metadata": {},
     "output_type": "execute_result"
    }
   ],
   "source": [
    "Mean_monthly_return = Merged_Portfolio.mean(axis=0)\n",
    "Mean_monthly_return"
   ]
  },
  {
   "cell_type": "code",
   "execution_count": 15,
   "metadata": {},
   "outputs": [
    {
     "data": {
      "text/html": [
       "<div>\n",
       "<style scoped>\n",
       "    .dataframe tbody tr th:only-of-type {\n",
       "        vertical-align: middle;\n",
       "    }\n",
       "\n",
       "    .dataframe tbody tr th {\n",
       "        vertical-align: top;\n",
       "    }\n",
       "\n",
       "    .dataframe thead th {\n",
       "        text-align: right;\n",
       "    }\n",
       "</style>\n",
       "<table border=\"1\" class=\"dataframe\">\n",
       "  <thead>\n",
       "    <tr style=\"text-align: right;\">\n",
       "      <th></th>\n",
       "      <th>Mean_monthly_return</th>\n",
       "      <th>Intercept</th>\n",
       "      <th>Slope</th>\n",
       "    </tr>\n",
       "  </thead>\n",
       "  <tbody>\n",
       "    <tr>\n",
       "      <th>Cnsmr</th>\n",
       "      <td>1.449167</td>\n",
       "      <td>0.328254</td>\n",
       "      <td>0.803442</td>\n",
       "    </tr>\n",
       "    <tr>\n",
       "      <th>HiTec</th>\n",
       "      <td>1.672361</td>\n",
       "      <td>0.244585</td>\n",
       "      <td>1.023394</td>\n",
       "    </tr>\n",
       "    <tr>\n",
       "      <th>Hlth</th>\n",
       "      <td>1.452083</td>\n",
       "      <td>0.384346</td>\n",
       "      <td>0.765327</td>\n",
       "    </tr>\n",
       "    <tr>\n",
       "      <th>Manuf</th>\n",
       "      <td>1.108889</td>\n",
       "      <td>-0.347052</td>\n",
       "      <td>1.043581</td>\n",
       "    </tr>\n",
       "    <tr>\n",
       "      <th>Market</th>\n",
       "      <td>1.395139</td>\n",
       "      <td>NaN</td>\n",
       "      <td>NaN</td>\n",
       "    </tr>\n",
       "    <tr>\n",
       "      <th>Other</th>\n",
       "      <td>1.366389</td>\n",
       "      <td>-0.234594</td>\n",
       "      <td>1.147543</td>\n",
       "    </tr>\n",
       "  </tbody>\n",
       "</table>\n",
       "</div>"
      ],
      "text/plain": [
       "        Mean_monthly_return Intercept     Slope\n",
       "Cnsmr              1.449167  0.328254  0.803442\n",
       "HiTec              1.672361  0.244585  1.023394\n",
       "Hlth               1.452083  0.384346  0.765327\n",
       "Manuf              1.108889 -0.347052  1.043581\n",
       "Market             1.395139       NaN       NaN\n",
       "Other              1.366389 -0.234594  1.147543"
      ]
     },
     "execution_count": 15,
     "metadata": {},
     "output_type": "execute_result"
    }
   ],
   "source": [
    "Security_Market_Line = pd.DataFrame(data=Mean_monthly_return)\n",
    "Security_Market_Line.rename(mapper={0:\"Mean_monthly_return\"},axis=1,inplace=True) \n",
    "Security_Market_Line = Security_Market_Line.merge(Market_model.T,how=\"outer\",left_index=True,right_index=True)\n",
    "Security_Market_Line"
   ]
  },
  {
   "cell_type": "code",
   "execution_count": 16,
   "metadata": {},
   "outputs": [],
   "source": [
    "# Fill in the intercept and slope for market portfolio\n",
    "\n",
    "Security_Market_Line.loc[\"Market\",\"Intercept\"]=0\n",
    "Security_Market_Line.loc[\"Market\",\"Slope\"]=1"
   ]
  },
  {
   "cell_type": "code",
   "execution_count": 17,
   "metadata": {},
   "outputs": [],
   "source": [
    "# Make sure the columns are numbers\n",
    "\n",
    "Security_Market_Line['Intercept'] = pd.to_numeric(Security_Market_Line['Intercept'])\n",
    "Security_Market_Line['Slope'] = pd.to_numeric(Security_Market_Line['Slope'])"
   ]
  },
  {
   "cell_type": "code",
   "execution_count": 18,
   "metadata": {},
   "outputs": [
    {
     "data": {
      "text/html": [
       "<div>\n",
       "<style scoped>\n",
       "    .dataframe tbody tr th:only-of-type {\n",
       "        vertical-align: middle;\n",
       "    }\n",
       "\n",
       "    .dataframe tbody tr th {\n",
       "        vertical-align: top;\n",
       "    }\n",
       "\n",
       "    .dataframe thead th {\n",
       "        text-align: right;\n",
       "    }\n",
       "</style>\n",
       "<table border=\"1\" class=\"dataframe\">\n",
       "  <thead>\n",
       "    <tr style=\"text-align: right;\">\n",
       "      <th></th>\n",
       "      <th>Mean_monthly_return</th>\n",
       "      <th>Intercept</th>\n",
       "      <th>Slope</th>\n",
       "    </tr>\n",
       "  </thead>\n",
       "  <tbody>\n",
       "    <tr>\n",
       "      <th>Cnsmr</th>\n",
       "      <td>1.449167</td>\n",
       "      <td>0.328254</td>\n",
       "      <td>0.803442</td>\n",
       "    </tr>\n",
       "    <tr>\n",
       "      <th>HiTec</th>\n",
       "      <td>1.672361</td>\n",
       "      <td>0.244585</td>\n",
       "      <td>1.023394</td>\n",
       "    </tr>\n",
       "    <tr>\n",
       "      <th>Hlth</th>\n",
       "      <td>1.452083</td>\n",
       "      <td>0.384346</td>\n",
       "      <td>0.765327</td>\n",
       "    </tr>\n",
       "    <tr>\n",
       "      <th>Manuf</th>\n",
       "      <td>1.108889</td>\n",
       "      <td>-0.347052</td>\n",
       "      <td>1.043581</td>\n",
       "    </tr>\n",
       "    <tr>\n",
       "      <th>Market</th>\n",
       "      <td>1.395139</td>\n",
       "      <td>0.000000</td>\n",
       "      <td>1.000000</td>\n",
       "    </tr>\n",
       "    <tr>\n",
       "      <th>Other</th>\n",
       "      <td>1.366389</td>\n",
       "      <td>-0.234594</td>\n",
       "      <td>1.147543</td>\n",
       "    </tr>\n",
       "  </tbody>\n",
       "</table>\n",
       "</div>"
      ],
      "text/plain": [
       "        Mean_monthly_return  Intercept     Slope\n",
       "Cnsmr              1.449167   0.328254  0.803442\n",
       "HiTec              1.672361   0.244585  1.023394\n",
       "Hlth               1.452083   0.384346  0.765327\n",
       "Manuf              1.108889  -0.347052  1.043581\n",
       "Market             1.395139   0.000000  1.000000\n",
       "Other              1.366389  -0.234594  1.147543"
      ]
     },
     "execution_count": 18,
     "metadata": {},
     "output_type": "execute_result"
    }
   ],
   "source": [
    "# Remember that the Intercept is Alpha and the Slope is Beta\n",
    "# The Mean_monthly_return is the original monthly return (NOT EXCESS RETURN)\n",
    "\n",
    "Security_Market_Line"
   ]
  },
  {
   "cell_type": "code",
   "execution_count": 19,
   "metadata": {},
   "outputs": [],
   "source": [
    "# Doing a regression using Beta on mean_monthly_returns\n",
    "\n",
    "slope, intercept, r, p, std_err = stats.linregress(Security_Market_Line[\"Slope\"], Security_Market_Line[\"Mean_monthly_return\"])"
   ]
  },
  {
   "cell_type": "code",
   "execution_count": 20,
   "metadata": {},
   "outputs": [
    {
     "data": {
      "text/plain": [
       "-0.2867620887985608"
      ]
     },
     "execution_count": 20,
     "metadata": {},
     "output_type": "execute_result"
    }
   ],
   "source": [
    "slope"
   ]
  },
  {
   "cell_type": "code",
   "execution_count": 21,
   "metadata": {},
   "outputs": [
    {
     "data": {
      "text/plain": [
       "1.683742554293583"
      ]
     },
     "execution_count": 21,
     "metadata": {},
     "output_type": "execute_result"
    }
   ],
   "source": [
    "intercept"
   ]
  },
  {
   "cell_type": "code",
   "execution_count": 22,
   "metadata": {},
   "outputs": [
    {
     "data": {
      "text/plain": [
       "array([1.68374255, 1.67765972, 1.67157689, 1.66549406, 1.65941123,\n",
       "       1.65332839, 1.64724556, 1.64116273, 1.6350799 , 1.62899706,\n",
       "       1.62291423, 1.6168314 , 1.61074857, 1.60466574, 1.5985829 ,\n",
       "       1.59250007, 1.58641724, 1.58033441, 1.57425157, 1.56816874,\n",
       "       1.56208591, 1.55600308, 1.54992025, 1.54383741, 1.53775458,\n",
       "       1.53167175, 1.52558892, 1.51950609, 1.51342325, 1.50734042,\n",
       "       1.50125759, 1.49517476, 1.48909192, 1.48300909, 1.47692626,\n",
       "       1.47084343, 1.4647606 , 1.45867776, 1.45259493, 1.4465121 ,\n",
       "       1.44042927, 1.43434643, 1.4282636 , 1.42218077, 1.41609794,\n",
       "       1.41001511, 1.40393227, 1.39784944, 1.39176661, 1.38568378,\n",
       "       1.37960094, 1.37351811, 1.36743528, 1.36135245, 1.35526962,\n",
       "       1.34918678, 1.34310395, 1.33702112, 1.33093829, 1.32485546,\n",
       "       1.31877262, 1.31268979, 1.30660696, 1.30052413, 1.29444129,\n",
       "       1.28835846, 1.28227563, 1.2761928 , 1.27010997, 1.26402713,\n",
       "       1.2579443 , 1.25186147, 1.24577864, 1.2396958 , 1.23361297,\n",
       "       1.22753014, 1.22144731, 1.21536448, 1.20928164, 1.20319881,\n",
       "       1.19711598, 1.19103315, 1.18495031, 1.17886748, 1.17278465,\n",
       "       1.16670182, 1.16061899, 1.15453615, 1.14845332, 1.14237049,\n",
       "       1.13628766, 1.13020483, 1.12412199, 1.11803916, 1.11195633,\n",
       "       1.1058735 , 1.09979066, 1.09370783, 1.087625  , 1.08154217])"
      ]
     },
     "execution_count": 22,
     "metadata": {},
     "output_type": "execute_result"
    }
   ],
   "source": [
    "# Draw the SML\n",
    "\n",
    "SML = intercept + slope * np.linspace(0, 2.1, 100)\n",
    "SML "
   ]
  },
  {
   "cell_type": "code",
   "execution_count": 23,
   "metadata": {},
   "outputs": [
    {
     "data": {
      "image/png": "[encoded data removed]",
      "text/plain": [
       "<Figure size 640x480 with 1 Axes>"
      ]
     },
     "metadata": {},
     "output_type": "display_data"
    }
   ],
   "source": [
    "# Create the figure and axis objects\n",
    "fig, ax = plt.subplots(1, 1)\n",
    "\n",
    "# Plot the SML line using the generated beta_values\n",
    "ax.plot(np.linspace(0, 2.1, 100), SML, label=\"SML\", color=\"red\")\n",
    "\n",
    "# Scatter plot of the actual data points\n",
    "ax.scatter(Security_Market_Line[\"Slope\"], Security_Market_Line[\"Mean_monthly_return\"], color='blue', label=\"Data Points\")\n",
    "\n",
    "# Set x-ticks in increments of 0.2\n",
    "plt.xticks(np.arange(0, 2.1, 0.2))\n",
    "\n",
    "# Optional: Set y-ticks if needed \n",
    "# plt.yticks(np.arange(0, 2.1, 0.1))\n",
    "\n",
    "# Label the axes\n",
    "plt.xlabel('Beta')\n",
    "plt.ylabel('Expected Return (%)')\n",
    "\n",
    "# Add title and legend\n",
    "plt.title('Security Market Line')\n",
    "plt.legend()\n",
    "\n",
    "# Display the plot\n",
    "plt.show()"
   ]
  },
  {
   "cell_type": "markdown",
   "metadata": {},
   "source": [
    "Economic interpretation for the intercept and slope coefficients of the SML."
   ]
  },
  {
   "cell_type": "markdown",
   "metadata": {},
   "source": [
    "The Security Market Line (SML) is a graphical representation of the Capital Asset Pricing Model (CAPM). It depicts the linear relationship between an asset’s expected return and its beta.  According to CAPM, the intercept of the SML should be the risk-free rate, as an asset with zero beta has zero exposure to systematic risk, and thus should only earn the risk-free rate of return. The slope of the SML should be the excess market return. According to the CAPM, assets with a higher beta are more exposed to market risk, and investors would demand a higher expected return to compensate for taking on that additional risk.\n",
    "\n",
    "All assets that lie on the SML have the same Treynor ratio, meaning they offer the same ratio of risk premium to systematic risk (beta). In equilibrium, such assets are fairly priced, providing a return that is consistent with their level of market risk."
   ]
  },
  {
   "cell_type": "markdown",
   "metadata": {},
   "source": []
  }
 ],
 "metadata": {
  "kernelspec": {
   "display_name": ".venv",
   "language": "python",
   "name": "python3"
  },
  "language_info": {
   "codemirror_mode": {
    "name": "ipython",
    "version": 3
   },
   "file_extension": ".py",
   "mimetype": "text/x-python",
   "name": "python",
   "nbconvert_exporter": "python",
   "pygments_lexer": "ipython3",
   "version": "3.10.6"
  }
 },
 "nbformat": 4,
 "nbformat_minor": 2
}
