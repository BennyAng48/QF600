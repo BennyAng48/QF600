{
 "cells": [
  {
   "cell_type": "markdown",
   "metadata": {},
   "source": [
    "# Q7"
   ]
  },
  {
   "cell_type": "markdown",
   "metadata": {},
   "source": [
    "Consider a Barberis, Huang, and Santos economy (without the house money effect) where the representative investor has δ = 0.99 and γ = 1 and λ = 2.\n",
    "\n",
    "Suppose that aggregate consumption growth has lognormal distribution with rare disasters:\n",
    "\n",
    "\n",
    "Here ε is a standard normal random variable, while η is an independent random variable that represents the effect of rare disasters: η = ln(0.7) with probability of 2.4%, or zero otherwise.\n",
    "\n",
    "Simulate the distribution for consumption growth with (at least) 104 random draws for ε and η. Calculate and report the mean and the standard deviation of the simulated distribution for consumption growth.\n",
    "\n",
    "Calculate and report the risk-free rate for this economy.\n",
    "\n",
    "Use bisection search (with absolute error of no more than 10-5  at convergence) to find the price-to-dividend ratio (P/D) for the market portfolio, for b0 in the range from 0 to 10, in increments of 0.1 (or less). Plot P/D vs b0.\n",
    "\n",
    "Calculate the equity premium, and plot the equity premium vs b0.\n",
    "\n",
    "Briefly explain (in words) how to extend the model to incorporate the house money effect."
   ]
  },
  {
   "cell_type": "code",
   "execution_count": 1,
   "metadata": {},
   "outputs": [],
   "source": [
    "import matplotlib.pyplot as plt\n",
    "from matplotlib.pyplot import subplot, scatter, plot, axis\n",
    "import numpy as np\n",
    "import pandas as pd\n",
    "import seaborn as sns\n",
    "from scipy import stats\n",
    "import statsmodels.api as sm\n",
    "\n",
    "# Datetime\n",
    "import datetime as dt\n",
    "from datetime import datetime\n",
    "from datetime import timedelta\n",
    "\n",
    "import warnings\n",
    "warnings.filterwarnings(\"ignore\")"
   ]
  },
  {
   "cell_type": "code",
   "execution_count": 2,
   "metadata": {},
   "outputs": [],
   "source": [
    "# initialize variables\n",
    "n_simulations = 100000"
   ]
  },
  {
   "cell_type": "code",
   "execution_count": 3,
   "metadata": {},
   "outputs": [],
   "source": [
    "delta = 0.99            # Discount factor\n",
    "gamma = 1               # Coefficient of relative risk aversion\n",
    "lamda = 2               # Degree of loss aversion"
   ]
  },
  {
   "cell_type": "code",
   "execution_count": 4,
   "metadata": {},
   "outputs": [],
   "source": [
    "# Note: This assumes that consumption grows at 2% a year with a standard deviation of 2%\n",
    "\n",
    "def consumption_growth (epsilon, nu):\n",
    "    growth = np.exp(0.02 + 0.02*epsilon + nu)           # can change consumption growth rate and standard deviation here\n",
    "    return growth"
   ]
  },
  {
   "cell_type": "code",
   "execution_count": 5,
   "metadata": {},
   "outputs": [],
   "source": [
    "columns = [\"epsilon\",\n",
    "           \"nu\",\n",
    "           \"growth\",]"
   ]
  },
  {
   "cell_type": "code",
   "execution_count": 6,
   "metadata": {},
   "outputs": [],
   "source": [
    "# Create dataframe to store simulation results\n",
    "\n",
    "Simulation_df = pd.DataFrame(index=range(n_simulations), columns=columns)\n",
    "\n",
    "Simulation_df[\"epsilon\"] = np.random.normal(0, 1, (n_simulations))\n",
    "\n",
    "Simulation_df[\"nu_draw\"] = np.random.uniform(0, 1, (n_simulations))\n",
    "\n",
    "# pi is the proability of rare disasters in a given year\n",
    "# phi is the fraction of output that remains after disaster\n",
    "Simulation_df[\"nu\"] = np.where(Simulation_df[\"nu_draw\"] <= 0.024, np.log(0.70), 0)          # can change probability of rare disasters, amount that is left after disaster\n",
    "\n",
    "Simulation_df[\"growth\"] = consumption_growth (Simulation_df[\"epsilon\"], Simulation_df[\"nu\"])"
   ]
  },
  {
   "cell_type": "markdown",
   "metadata": {},
   "source": [
    "# mean and the standard deviation of the simulated distribution for consumption growth"
   ]
  },
  {
   "cell_type": "code",
   "execution_count": 15,
   "metadata": {},
   "outputs": [
    {
     "data": {
      "text/plain": [
       "1.0128443277473302"
      ]
     },
     "execution_count": 15,
     "metadata": {},
     "output_type": "execute_result"
    }
   ],
   "source": [
    "mean_consumption_growth = Simulation_df[\"growth\"].mean()\n",
    "mean_consumption_growth"
   ]
  },
  {
   "cell_type": "code",
   "execution_count": 16,
   "metadata": {},
   "outputs": [
    {
     "data": {
      "text/plain": [
       "0.051359255696329334"
      ]
     },
     "execution_count": 16,
     "metadata": {},
     "output_type": "execute_result"
    }
   ],
   "source": [
    "std_consumption_growth = Simulation_df[\"growth\"].std()\n",
    "std_consumption_growth"
   ]
  },
  {
   "cell_type": "markdown",
   "metadata": {},
   "source": [
    "# Risk-free rate for this economy"
   ]
  },
  {
   "cell_type": "code",
   "execution_count": 7,
   "metadata": {},
   "outputs": [],
   "source": [
    "# See Lesson 8 Slide 8\n",
    "\n",
    "rf = 1 / (delta * np.mean(np.array(Simulation_df[\"growth\"]) ** - gamma))"
   ]
  },
  {
   "cell_type": "code",
   "execution_count": 8,
   "metadata": {},
   "outputs": [
    {
     "data": {
      "text/plain": [
       "1.0195527200746188"
      ]
     },
     "execution_count": 8,
     "metadata": {},
     "output_type": "execute_result"
    }
   ],
   "source": [
    "rf"
   ]
  },
  {
   "cell_type": "code",
   "execution_count": 9,
   "metadata": {},
   "outputs": [],
   "source": [
    "def expected_utility_calc(kappa, g):\n",
    "\n",
    "    # https://numpy.org/doc/2.1/reference/generated/numpy.where.html\n",
    "    Eu = \\\n",
    "        np.mean(\n",
    "            np.where(\n",
    "                kappa * g >= rf,       # If return higher than risk-free rate\n",
    "                kappa * g - rf,        # Utility is just return minus risk free rate\n",
    "                2 * (kappa * g - rf)   # Otherwise, utility is twice as impacted # (lamda) Degree of loss aversion\n",
    "            )\n",
    "        )\n",
    "\n",
    "    return Eu"
   ]
  },
  {
   "cell_type": "code",
   "execution_count": 10,
   "metadata": {},
   "outputs": [],
   "source": [
    "def error(b, \n",
    "          utility, \n",
    "          kappa):\n",
    "\n",
    "    err = delta * b * utility + delta * kappa - 1     # (delta) Discount factor\n",
    "    \n",
    "    return err"
   ]
  },
  {
   "cell_type": "code",
   "execution_count": 11,
   "metadata": {},
   "outputs": [],
   "source": [
    "# This is the time varying scale factor to ensure that amount of utility from consumption remains similar to \n",
    "# amount of utility from recent gain or loss over different time intervals.\n",
    "# Use marginal utility of aggregate consumption as scale factor\n",
    "# b0 ≥ 0 determines extent to which utility from recent financial gain or loss contributes to investor’s lifetime utility\n",
    "\n",
    "b =  \\\n",
    "    np \\\n",
    "        .linspace(\n",
    "            start = 0, \n",
    "            stop = 10, \n",
    "            num = 1001\n",
    "        )"
   ]
  },
  {
   "cell_type": "code",
   "execution_count": 12,
   "metadata": {},
   "outputs": [],
   "source": [
    "kappa_results = []\n",
    "\n",
    "for i in b:\n",
    "    \n",
    "    # confirm that solution lies between start and end\n",
    "    start = 1\n",
    "    end = 1.1\n",
    "\n",
    "    start_utility = \\\n",
    "        expected_utility_calc(\n",
    "            kappa = np.full((1, n_simulations), start), \n",
    "            g = Simulation_df[\"growth\"].values\n",
    "            )\n",
    "    \n",
    "    end_utility = \\\n",
    "        expected_utility_calc(\n",
    "            kappa = np.full((1, n_simulations), end), \n",
    "            g = Simulation_df[\"growth\"].values\n",
    "        )\n",
    "\n",
    "    # If errors are of the same sign\n",
    "    if (error(i, start_utility, start) * error(i, end_utility, end)) > 0:\n",
    "    \n",
    "        print('solution does not lie between kappa_ and kappa+')\n",
    "\n",
    "    error_term = 999\n",
    "\n",
    "    # bisection search, while absolute of error term greater than\n",
    "    while abs(error_term) > 10e-5:\n",
    "\n",
    "        # set kappa as mid of start and end\n",
    "        kappa0_single = 0.5 * (start + end)\n",
    "\n",
    "        # create array of kappa to multiply with simulated consumption growth\n",
    "        kappa0 = np.full((1, n_simulations), kappa0_single)\n",
    "\n",
    "        # calculate the E(v(kappa * g))\n",
    "        Eu = expected_utility_calc(kappa = kappa0,\n",
    "                                   g = Simulation_df[\"growth\"].values)\n",
    "\n",
    "        # calculate error term\n",
    "        error_term = error(b = i,\n",
    "                           utility = Eu, \n",
    "                           kappa = kappa0_single)\n",
    "\n",
    "        # if error term < 0 means kappa < answer < 1.1, shift start point to kappa0_single\n",
    "        if error_term < 0:\n",
    "\n",
    "            start = kappa0_single\n",
    "\n",
    "        # if error term > 0 means 1 < answer < kappa, shift end point to kappa0_single\n",
    "        if error_term > 0:\n",
    "            \n",
    "            end = kappa0_single\n",
    "\n",
    "        # if error term converge than thats the kappa\n",
    "        if abs(error_term) < 10e-5:\n",
    "\n",
    "            kappa_results.append(kappa0_single)"
   ]
  },
  {
   "cell_type": "code",
   "execution_count": 13,
   "metadata": {},
   "outputs": [],
   "source": [
    "# creating df \n",
    "df = pd.DataFrame(kappa_results).rename(columns = {0 : 'kappa'})\n",
    "\n",
    "df['b'] = b"
   ]
  },
  {
   "cell_type": "code",
   "execution_count": 17,
   "metadata": {},
   "outputs": [
    {
     "data": {
      "image/png": "[encoded data removed]",
      "text/plain": [
       "<Figure size 640x480 with 1 Axes>"
      ]
     },
     "metadata": {},
     "output_type": "display_data"
    }
   ],
   "source": [
    "# plotting price dividend ratio\n",
    "\n",
    "df['price_dividend_ratio'] = 1 / (df[\"kappa\"] - 1)\n",
    "\n",
    "plt.plot(\n",
    "    df[\"b\"], \n",
    "    df[\"price_dividend_ratio\"]\n",
    "    )\n",
    "\n",
    "plt.xlabel('b0')\n",
    "\n",
    "plt.ylabel('Price Dividend Ratio')\n",
    "\n",
    "plt.title('Price Dividend Ratio vs b0');"
   ]
  },
  {
   "cell_type": "code",
   "execution_count": 18,
   "metadata": {},
   "outputs": [],
   "source": [
    "df['expected_market_return'] = df.kappa * np.exp(0.0202)       # Expected market return\n",
    "\n",
    "# Deduct rf from equity return to get equity risk premium\n",
    "df['equity_premium'] = df['expected_market_return'] - rf       # Equity risk premium"
   ]
  },
  {
   "cell_type": "code",
   "execution_count": 19,
   "metadata": {},
   "outputs": [
    {
     "data": {
      "image/png": "[encoded data removed]",
      "text/plain": [
       "<Figure size 640x480 with 1 Axes>"
      ]
     },
     "metadata": {},
     "output_type": "display_data"
    }
   ],
   "source": [
    "# Deduct rf from equity return to get equity risk premium\n",
    "plt.plot(df[\"b\"], df['equity_premium'])\n",
    "\n",
    "plt.xlabel('b0')\n",
    "\n",
    "plt.ylabel('Equity Premium')\n",
    "\n",
    "plt.title('Equity Premium vs b0');"
   ]
  },
  {
   "cell_type": "markdown",
   "metadata": {},
   "source": [
    "# House Money Effect"
   ]
  },
  {
   "cell_type": "markdown",
   "metadata": {},
   "source": [
    "House money effect is an effect where investors are more willing to gamble after prior gains and less willing to gamble after prior losses. To extend the model for house money effect, we allow investors to keep track of accumulated financial gain or loss over entire lifetime. If they have a (relative) gain, loss aversion is lower. If they have a relative loss, risk aversion is higher."
   ]
  },
  {
   "cell_type": "code",
   "execution_count": null,
   "metadata": {},
   "outputs": [],
   "source": []
  }
 ],
 "metadata": {
  "kernelspec": {
   "display_name": ".venv",
   "language": "python",
   "name": "python3"
  },
  "language_info": {
   "codemirror_mode": {
    "name": "ipython",
    "version": 3
   },
   "file_extension": ".py",
   "mimetype": "text/x-python",
   "name": "python",
   "nbconvert_exporter": "python",
   "pygments_lexer": "ipython3",
   "version": "3.10.6"
  }
 },
 "nbformat": 4,
 "nbformat_minor": 2
}
