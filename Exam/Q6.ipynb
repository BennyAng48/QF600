{
 "cells": [
  {
   "cell_type": "markdown",
   "metadata": {},
   "source": [
    "# Q6"
   ]
  },
  {
   "cell_type": "markdown",
   "metadata": {},
   "source": [
    "Hansen–Jagannathan Bound\n",
    "\n",
    "Suppose that the representative investor has constant absolute risk aversion, which gives rise to the following pricing kernel:\n",
    "\n",
    "\n",
    "Here b0 is the investor's coefficient of relative risk aversion, based on initial consumption.\n",
    "\n",
    "Suppose that consumption growth has lognormal distribution with rare disasters:\n",
    "\n",
    "\n",
    "Here ε is a standard normal random variable, while η is an independent random variable that represents the effect of rare disasters: η = ln(0.7) with probability of 2.4%, or zero otherwise.\n",
    "\n",
    "Simulate the distribution for consumption growth with (at least) 104 random draws for ε and η. Calculate the volatility ratio of the pricing kernel, for b0 in the range from 0 to 5, in increments of 0.1 (or less). Plot the volatility ratio vs b0.\n",
    "\n",
    "Find and report the smallest value of b0 for which the Hansen–Jagannathan bound is satisfied, in your data set."
   ]
  },
  {
   "cell_type": "code",
   "execution_count": 1,
   "metadata": {},
   "outputs": [],
   "source": [
    "import matplotlib.pyplot as plt\n",
    "from matplotlib.pyplot import subplot, scatter, plot, axis\n",
    "import numpy as np\n",
    "import pandas as pd\n",
    "import seaborn as sns\n",
    "from scipy import stats\n",
    "import statsmodels.api as sm\n",
    "\n",
    "# Datetime\n",
    "import datetime as dt\n",
    "from datetime import datetime\n",
    "from datetime import timedelta\n",
    "\n",
    "import warnings\n",
    "warnings.filterwarnings(\"ignore\")"
   ]
  },
  {
   "cell_type": "code",
   "execution_count": 2,
   "metadata": {},
   "outputs": [],
   "source": [
    "# initialize variables\n",
    "n_simulations = 100000"
   ]
  },
  {
   "cell_type": "code",
   "execution_count": 3,
   "metadata": {},
   "outputs": [],
   "source": [
    "def consumption_growth (epsilon, nu):\n",
    "    growth = np.exp(0.02 + 0.02*epsilon + nu)           # can change consumption growth rate and standard deviation here\n",
    "    return growth"
   ]
  },
  {
   "cell_type": "code",
   "execution_count": 4,
   "metadata": {},
   "outputs": [],
   "source": [
    "def pricing_kernel (growth, gamma):\n",
    "    return 0.99*np.exp(growth*(1-gamma))                        # can change discount factor here"
   ]
  },
  {
   "cell_type": "code",
   "execution_count": 5,
   "metadata": {},
   "outputs": [],
   "source": [
    "columns = [\"epsilon\",\n",
    "           \"nu\",\n",
    "           \"growth\",]"
   ]
  },
  {
   "cell_type": "code",
   "execution_count": 6,
   "metadata": {},
   "outputs": [],
   "source": [
    "# Create dataframe to store simulation results\n",
    "\n",
    "Simulation_df = pd.DataFrame(index=range(n_simulations), columns=columns)\n",
    "\n",
    "Simulation_df[\"epsilon\"] = np.random.normal(0, 1, (n_simulations))\n",
    "\n",
    "Simulation_df[\"nu_draw\"] = np.random.uniform(0, 1, (n_simulations))\n",
    "\n",
    "# pi is the proability of rare disasters in a given year\n",
    "# phi is the fraction of output that remains after disaster\n",
    "Simulation_df[\"nu\"] = np.where(Simulation_df[\"nu_draw\"] <= 0.024, np.log(0.7), 0)          # can change probability of rare disasters, amount that is left after disaster\n",
    "\n",
    "Simulation_df[\"growth\"] = consumption_growth (Simulation_df[\"epsilon\"], Simulation_df[\"nu\"])"
   ]
  },
  {
   "cell_type": "code",
   "execution_count": 7,
   "metadata": {},
   "outputs": [
    {
     "data": {
      "text/html": [
       "<div>\n",
       "<style scoped>\n",
       "    .dataframe tbody tr th:only-of-type {\n",
       "        vertical-align: middle;\n",
       "    }\n",
       "\n",
       "    .dataframe tbody tr th {\n",
       "        vertical-align: top;\n",
       "    }\n",
       "\n",
       "    .dataframe thead th {\n",
       "        text-align: right;\n",
       "    }\n",
       "</style>\n",
       "<table border=\"1\" class=\"dataframe\">\n",
       "  <thead>\n",
       "    <tr style=\"text-align: right;\">\n",
       "      <th></th>\n",
       "      <th>epsilon</th>\n",
       "      <th>nu</th>\n",
       "      <th>growth</th>\n",
       "      <th>nu_draw</th>\n",
       "    </tr>\n",
       "  </thead>\n",
       "  <tbody>\n",
       "    <tr>\n",
       "      <th>0</th>\n",
       "      <td>-0.926063</td>\n",
       "      <td>0.0</td>\n",
       "      <td>1.001480</td>\n",
       "      <td>0.610457</td>\n",
       "    </tr>\n",
       "    <tr>\n",
       "      <th>1</th>\n",
       "      <td>-0.341488</td>\n",
       "      <td>0.0</td>\n",
       "      <td>1.013257</td>\n",
       "      <td>0.539260</td>\n",
       "    </tr>\n",
       "    <tr>\n",
       "      <th>2</th>\n",
       "      <td>-0.087532</td>\n",
       "      <td>0.0</td>\n",
       "      <td>1.018417</td>\n",
       "      <td>0.177347</td>\n",
       "    </tr>\n",
       "    <tr>\n",
       "      <th>3</th>\n",
       "      <td>0.106450</td>\n",
       "      <td>0.0</td>\n",
       "      <td>1.022376</td>\n",
       "      <td>0.664381</td>\n",
       "    </tr>\n",
       "    <tr>\n",
       "      <th>4</th>\n",
       "      <td>-0.140426</td>\n",
       "      <td>0.0</td>\n",
       "      <td>1.017340</td>\n",
       "      <td>0.090827</td>\n",
       "    </tr>\n",
       "    <tr>\n",
       "      <th>...</th>\n",
       "      <td>...</td>\n",
       "      <td>...</td>\n",
       "      <td>...</td>\n",
       "      <td>...</td>\n",
       "    </tr>\n",
       "    <tr>\n",
       "      <th>99995</th>\n",
       "      <td>0.203430</td>\n",
       "      <td>0.0</td>\n",
       "      <td>1.024361</td>\n",
       "      <td>0.073811</td>\n",
       "    </tr>\n",
       "    <tr>\n",
       "      <th>99996</th>\n",
       "      <td>0.672749</td>\n",
       "      <td>0.0</td>\n",
       "      <td>1.034021</td>\n",
       "      <td>0.544867</td>\n",
       "    </tr>\n",
       "    <tr>\n",
       "      <th>99997</th>\n",
       "      <td>0.495429</td>\n",
       "      <td>0.0</td>\n",
       "      <td>1.030360</td>\n",
       "      <td>0.292512</td>\n",
       "    </tr>\n",
       "    <tr>\n",
       "      <th>99998</th>\n",
       "      <td>0.257974</td>\n",
       "      <td>0.0</td>\n",
       "      <td>1.025479</td>\n",
       "      <td>0.821935</td>\n",
       "    </tr>\n",
       "    <tr>\n",
       "      <th>99999</th>\n",
       "      <td>-0.107996</td>\n",
       "      <td>0.0</td>\n",
       "      <td>1.018000</td>\n",
       "      <td>0.813102</td>\n",
       "    </tr>\n",
       "  </tbody>\n",
       "</table>\n",
       "<p>100000 rows × 4 columns</p>\n",
       "</div>"
      ],
      "text/plain": [
       "        epsilon   nu    growth   nu_draw\n",
       "0     -0.926063  0.0  1.001480  0.610457\n",
       "1     -0.341488  0.0  1.013257  0.539260\n",
       "2     -0.087532  0.0  1.018417  0.177347\n",
       "3      0.106450  0.0  1.022376  0.664381\n",
       "4     -0.140426  0.0  1.017340  0.090827\n",
       "...         ...  ...       ...       ...\n",
       "99995  0.203430  0.0  1.024361  0.073811\n",
       "99996  0.672749  0.0  1.034021  0.544867\n",
       "99997  0.495429  0.0  1.030360  0.292512\n",
       "99998  0.257974  0.0  1.025479  0.821935\n",
       "99999 -0.107996  0.0  1.018000  0.813102\n",
       "\n",
       "[100000 rows x 4 columns]"
      ]
     },
     "execution_count": 7,
     "metadata": {},
     "output_type": "execute_result"
    }
   ],
   "source": [
    "Simulation_df"
   ]
  },
  {
   "cell_type": "code",
   "execution_count": 8,
   "metadata": {},
   "outputs": [],
   "source": [
    "gamma_range = np.arange(1, 5.1, 0.1)"
   ]
  },
  {
   "cell_type": "code",
   "execution_count": 9,
   "metadata": {},
   "outputs": [],
   "source": [
    "Pricing_Kernel_df = pd.DataFrame(index=range(n_simulations), columns=gamma_range)\n",
    "\n",
    "for gamma in gamma_range:\n",
    "    Pricing_Kernel_df.loc[:,gamma] = pricing_kernel (Simulation_df[\"growth\"], gamma)"
   ]
  },
  {
   "cell_type": "code",
   "execution_count": 10,
   "metadata": {},
   "outputs": [],
   "source": [
    "Pricing_Kernel_transposed_df = Pricing_Kernel_df.T"
   ]
  },
  {
   "cell_type": "code",
   "execution_count": 11,
   "metadata": {},
   "outputs": [],
   "source": [
    "Pricing_Kernel_transposed_df[\"mean\"]=Pricing_Kernel_transposed_df.mean(axis=1)\n",
    "Pricing_Kernel_transposed_df[\"std\"]=Pricing_Kernel_transposed_df.std(axis=1)\n",
    "Pricing_Kernel_transposed_df[\"volatility_ratio\"]=Pricing_Kernel_transposed_df[\"std\"]/Pricing_Kernel_transposed_df[\"mean\"]"
   ]
  },
  {
   "cell_type": "code",
   "execution_count": 12,
   "metadata": {},
   "outputs": [
    {
     "data": {
      "image/png": "[encoded data removed]",
      "text/plain": [
       "<Figure size 640x480 with 1 Axes>"
      ]
     },
     "metadata": {},
     "output_type": "display_data"
    }
   ],
   "source": [
    "plt.plot( Pricing_Kernel_transposed_df.index, \n",
    "         Pricing_Kernel_transposed_df[\"volatility_ratio\"],\n",
    "         color='blue', \n",
    "         linestyle='--', \n",
    "         label = \"Pricing kernel\")\n",
    "\n",
    "\n",
    "plt.yticks(np.arange(0, 0.5, 0.05))\n",
    "plt.xlim(0,5.1)\n",
    "plt.xlabel('Gamma')\n",
    "plt.ylabel('Volatility Ratio')\n",
    "plt.title('Pricing kernel')\n",
    "plt.legend()\n",
    "plt.show()"
   ]
  },
  {
   "cell_type": "code",
   "execution_count": 13,
   "metadata": {},
   "outputs": [
    {
     "name": "stdout",
     "output_type": "stream",
     "text": [
      "Smallest value of  γ for which σM/μM > 0.3: 4.6\n"
     ]
    }
   ],
   "source": [
    "# Filter the DataFrame where 'volatility_ratio' > 0.3\n",
    "filtered_df = Pricing_Kernel_transposed_df[Pricing_Kernel_transposed_df[\"volatility_ratio\"] > 0.3]  # can change minimum value of volatility ratio to look for here\n",
    "\n",
    "# Get the index of the minimum value from the filtered DataFrame\n",
    "min_index = filtered_df[\"volatility_ratio\"].idxmin()\n",
    "\n",
    "# Print the formatted index\n",
    "print(f\"Smallest value of  γ for which σM/μM > 0.3: {min_index:.1f}\")"
   ]
  },
  {
   "cell_type": "markdown",
   "metadata": {},
   "source": [
    "State Prices\n",
    "\n",
    "You must show all relevant working for these results.\n",
    "\n",
    "Suppose that a one-period financial market has two states of nature: \"good\" and \"bad\".\n",
    "\n",
    "This financial market has two assets: stock A and stock B. Both stocks have initial price of 70 (per share), and the following distribution of final payoffs (per share):\n",
    "\n",
    " \tGood\tBad\n",
    "Stock A\t100\t50\n",
    "Stock B\t80\t65\n",
    "\n",
    "\n",
    "Calculate the initial prices for the elementary Arrow–Debreu securities.\n",
    "\n",
    "Calculate the risk-neutral probabilities for the two states.\n",
    "Consider a financial derivative with final payoff given by Y = max[XA, XB] – 55, where XA and XB are the final payoffs for one share of stock A and stock B, respectively.\n",
    "\n",
    "Calculate the initial price for this financial derivative.\n",
    "\n",
    "Calculate the amount to invest in the two stocks, in order to replicate this financial derivative.\n",
    "You must show all relevant working for these results."
   ]
  },
  {
   "cell_type": "code",
   "execution_count": 14,
   "metadata": {},
   "outputs": [],
   "source": [
    "# Set Riskfree_rate\n",
    "\n",
    "Riskfree_rate = 1.0\n",
    "\n",
    "Initial_price_stockA = 70\n",
    "Initial_price_stockB = 70\n",
    "#Initial_price_stockC = 45\n",
    "\n",
    "State_Probability = [0.5,0.5]\n",
    "\n",
    "# Final share price after one year\n",
    "\n",
    "Asset_A=[100,50]\n",
    "Asset_B=[80,65]\n"
   ]
  },
  {
   "cell_type": "code",
   "execution_count": 15,
   "metadata": {},
   "outputs": [],
   "source": [
    "# Vector of initial prices for one share of each asset\n",
    "\n",
    "P = [Initial_price_stockA,Initial_price_stockB]\n",
    "\n",
    "P = pd.DataFrame(P)"
   ]
  },
  {
   "cell_type": "code",
   "execution_count": 16,
   "metadata": {},
   "outputs": [],
   "source": [
    "# Define Stock_payoff as an array with floats instead of lists\n",
    "Stock_payoffA = np.array(Asset_A, dtype=float)\n",
    "\n",
    "Stock_payoffB = np.array(Asset_B, dtype=float)\n",
    "\n",
    "# Combine both arrays into a single array\n",
    "X = np.column_stack((Stock_payoffA, Stock_payoffB))\n",
    "\n",
    "# Create a DataFrame and ensure all values are floats\n",
    "X = pd.DataFrame(X, columns=['Stock_payoffA', 'Stock_payoffB'])"
   ]
  },
  {
   "cell_type": "code",
   "execution_count": 17,
   "metadata": {},
   "outputs": [
    {
     "data": {
      "text/html": [
       "<div>\n",
       "<style scoped>\n",
       "    .dataframe tbody tr th:only-of-type {\n",
       "        vertical-align: middle;\n",
       "    }\n",
       "\n",
       "    .dataframe tbody tr th {\n",
       "        vertical-align: top;\n",
       "    }\n",
       "\n",
       "    .dataframe thead th {\n",
       "        text-align: right;\n",
       "    }\n",
       "</style>\n",
       "<table border=\"1\" class=\"dataframe\">\n",
       "  <thead>\n",
       "    <tr style=\"text-align: right;\">\n",
       "      <th></th>\n",
       "      <th>Stock_payoffA</th>\n",
       "      <th>Stock_payoffB</th>\n",
       "    </tr>\n",
       "  </thead>\n",
       "  <tbody>\n",
       "    <tr>\n",
       "      <th>0</th>\n",
       "      <td>100.0</td>\n",
       "      <td>80.0</td>\n",
       "    </tr>\n",
       "    <tr>\n",
       "      <th>1</th>\n",
       "      <td>50.0</td>\n",
       "      <td>65.0</td>\n",
       "    </tr>\n",
       "  </tbody>\n",
       "</table>\n",
       "</div>"
      ],
      "text/plain": [
       "   Stock_payoffA  Stock_payoffB\n",
       "0          100.0           80.0\n",
       "1           50.0           65.0"
      ]
     },
     "execution_count": 17,
     "metadata": {},
     "output_type": "execute_result"
    }
   ],
   "source": [
    "# Final payoff of every asset in every state\n",
    "\n",
    "X"
   ]
  },
  {
   "cell_type": "code",
   "execution_count": 18,
   "metadata": {},
   "outputs": [],
   "source": [
    "# Slide 9\n",
    "# Initial value of receiving final payoff of 1 in state s\n",
    "\n",
    "Vector_of_state_prices = P.T.dot(np.linalg.inv(X))"
   ]
  },
  {
   "cell_type": "code",
   "execution_count": 19,
   "metadata": {},
   "outputs": [
    {
     "data": {
      "text/html": [
       "<div>\n",
       "<style scoped>\n",
       "    .dataframe tbody tr th:only-of-type {\n",
       "        vertical-align: middle;\n",
       "    }\n",
       "\n",
       "    .dataframe tbody tr th {\n",
       "        vertical-align: top;\n",
       "    }\n",
       "\n",
       "    .dataframe thead th {\n",
       "        text-align: right;\n",
       "    }\n",
       "</style>\n",
       "<table border=\"1\" class=\"dataframe\">\n",
       "  <thead>\n",
       "    <tr style=\"text-align: right;\">\n",
       "      <th></th>\n",
       "      <th>0</th>\n",
       "      <th>1</th>\n",
       "    </tr>\n",
       "  </thead>\n",
       "  <tbody>\n",
       "    <tr>\n",
       "      <th>0</th>\n",
       "      <td>0.42</td>\n",
       "      <td>0.56</td>\n",
       "    </tr>\n",
       "  </tbody>\n",
       "</table>\n",
       "</div>"
      ],
      "text/plain": [
       "      0     1\n",
       "0  0.42  0.56"
      ]
     },
     "execution_count": 19,
     "metadata": {},
     "output_type": "execute_result"
    }
   ],
   "source": [
    "Vector_of_state_prices"
   ]
  },
  {
   "cell_type": "code",
   "execution_count": 20,
   "metadata": {},
   "outputs": [],
   "source": [
    "Vector_of_risk_neutral_probabilities = Vector_of_state_prices * Riskfree_rate"
   ]
  },
  {
   "cell_type": "code",
   "execution_count": 21,
   "metadata": {},
   "outputs": [
    {
     "data": {
      "text/html": [
       "<div>\n",
       "<style scoped>\n",
       "    .dataframe tbody tr th:only-of-type {\n",
       "        vertical-align: middle;\n",
       "    }\n",
       "\n",
       "    .dataframe tbody tr th {\n",
       "        vertical-align: top;\n",
       "    }\n",
       "\n",
       "    .dataframe thead th {\n",
       "        text-align: right;\n",
       "    }\n",
       "</style>\n",
       "<table border=\"1\" class=\"dataframe\">\n",
       "  <thead>\n",
       "    <tr style=\"text-align: right;\">\n",
       "      <th></th>\n",
       "      <th>0</th>\n",
       "      <th>1</th>\n",
       "    </tr>\n",
       "  </thead>\n",
       "  <tbody>\n",
       "    <tr>\n",
       "      <th>0</th>\n",
       "      <td>0.42</td>\n",
       "      <td>0.56</td>\n",
       "    </tr>\n",
       "  </tbody>\n",
       "</table>\n",
       "</div>"
      ],
      "text/plain": [
       "      0     1\n",
       "0  0.42  0.56"
      ]
     },
     "execution_count": 21,
     "metadata": {},
     "output_type": "execute_result"
    }
   ],
   "source": [
    "Vector_of_risk_neutral_probabilities"
   ]
  },
  {
   "cell_type": "code",
   "execution_count": 22,
   "metadata": {},
   "outputs": [],
   "source": [
    "Strike_price = 55"
   ]
  },
  {
   "cell_type": "code",
   "execution_count": 23,
   "metadata": {},
   "outputs": [],
   "source": [
    "Initial_price_call_option = \\\n",
    "    (\n",
    "        (Vector_of_risk_neutral_probabilities.iloc[0,0] * max(0,Stock_payoffA[0] + Stock_payoffB[0] - Strike_price) / Riskfree_rate)\n",
    "        +\n",
    "        (Vector_of_risk_neutral_probabilities.iloc[0,1] * max(0,Stock_payoffA[1] + Stock_payoffB[1] - Strike_price) / Riskfree_rate)\n",
    "    )"
   ]
  },
  {
   "cell_type": "code",
   "execution_count": 24,
   "metadata": {},
   "outputs": [
    {
     "data": {
      "text/plain": [
       "86.1"
      ]
     },
     "execution_count": 24,
     "metadata": {},
     "output_type": "execute_result"
    }
   ],
   "source": [
    "Initial_price_call_option"
   ]
  },
  {
   "cell_type": "code",
   "execution_count": null,
   "metadata": {},
   "outputs": [],
   "source": []
  },
  {
   "cell_type": "code",
   "execution_count": null,
   "metadata": {},
   "outputs": [],
   "source": []
  },
  {
   "cell_type": "code",
   "execution_count": null,
   "metadata": {},
   "outputs": [],
   "source": []
  }
 ],
 "metadata": {
  "kernelspec": {
   "display_name": ".venv",
   "language": "python",
   "name": "python3"
  },
  "language_info": {
   "codemirror_mode": {
    "name": "ipython",
    "version": 3
   },
   "file_extension": ".py",
   "mimetype": "text/x-python",
   "name": "python",
   "nbconvert_exporter": "python",
   "pygments_lexer": "ipython3",
   "version": "3.10.6"
  }
 },
 "nbformat": 4,
 "nbformat_minor": 2
}
