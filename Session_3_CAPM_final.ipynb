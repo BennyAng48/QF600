{
 "cells": [
  {
   "cell_type": "code",
   "execution_count": 1,
   "metadata": {},
   "outputs": [],
   "source": [
    "import matplotlib.pyplot as plt\n",
    "import numpy as np\n",
    "import pandas as pd\n",
    "import seaborn as sns\n",
    "from scipy import stats\n",
    "import statsmodels.api as sm\n",
    "\n",
    "# Datetime\n",
    "import datetime as dt\n",
    "from datetime import datetime\n",
    "from datetime import timedelta\n",
    "\n",
    "import warnings"
   ]
  },
  {
   "cell_type": "code",
   "execution_count": 2,
   "metadata": {},
   "outputs": [],
   "source": [
    "warnings.filterwarnings(\"ignore\")"
   ]
  },
  {
   "cell_type": "code",
   "execution_count": 3,
   "metadata": {},
   "outputs": [],
   "source": [
    "Industry_Portfolio=pd.read_excel(\"Industry_Portfolios.xlsx\",index_col=0)"
   ]
  },
  {
   "cell_type": "code",
   "execution_count": 4,
   "metadata": {},
   "outputs": [],
   "source": [
    "Market_Portfolio=pd.read_excel(\"Market_Portfolio.xlsx\",index_col=0)"
   ]
  },
  {
   "cell_type": "code",
   "execution_count": 5,
   "metadata": {},
   "outputs": [],
   "source": [
    "Merged_Portfolio = Industry_Portfolio.merge(Market_Portfolio,how='inner',left_index=True, right_index=True)"
   ]
  },
  {
   "cell_type": "code",
   "execution_count": 6,
   "metadata": {},
   "outputs": [],
   "source": [
    "rf=0.13"
   ]
  },
  {
   "cell_type": "code",
   "execution_count": 7,
   "metadata": {},
   "outputs": [],
   "source": [
    "Excess_Return_Portfolio = Merged_Portfolio-rf"
   ]
  },
  {
   "cell_type": "code",
   "execution_count": 8,
   "metadata": {},
   "outputs": [],
   "source": [
    "# Initialize the Market_model DataFrame with appropriate indices and columns\n",
    "Market_model=pd.DataFrame(index=[\"Intercept\",\"Slope\"],columns=Industry_Portfolio.columns)\n",
    "\n",
    "# Loop through each column of Excess_Return_Portfolio (except the last one, which is the market portfolio)\n",
    "for column in range(Market_model.shape[1]):\n",
    "    y = Excess_Return_Portfolio.iloc[:,column]                       # Dependent variable (industry portfolio)\n",
    "    x = Excess_Return_Portfolio.iloc[:,-1]                           # Independent variable (market portfolio, assumed to be the last column)\n",
    "    \n",
    "    # Perform linear regression between the column and the market portfolio\n",
    "    slope, intercept, r, p, std_err = stats.linregress(x, y)\n",
    "\n",
    "    # Store the intercept and slope in the Market_model DataFrame\n",
    "    Market_model.iloc[0,column]=intercept\n",
    "    Market_model.iloc[1,column]=slope\n",
    "\n",
    "#Market_model"
   ]
  },
  {
   "cell_type": "code",
   "execution_count": 9,
   "metadata": {},
   "outputs": [
    {
     "data": {
      "text/html": [
       "<div>\n",
       "<style scoped>\n",
       "    .dataframe tbody tr th:only-of-type {\n",
       "        vertical-align: middle;\n",
       "    }\n",
       "\n",
       "    .dataframe tbody tr th {\n",
       "        vertical-align: top;\n",
       "    }\n",
       "\n",
       "    .dataframe thead th {\n",
       "        text-align: right;\n",
       "    }\n",
       "</style>\n",
       "<table border=\"1\" class=\"dataframe\">\n",
       "  <thead>\n",
       "    <tr style=\"text-align: right;\">\n",
       "      <th></th>\n",
       "      <th>Intercept</th>\n",
       "      <th>Slope</th>\n",
       "    </tr>\n",
       "  </thead>\n",
       "  <tbody>\n",
       "    <tr>\n",
       "      <th>NoDur</th>\n",
       "      <td>0.369443</td>\n",
       "      <td>0.652647</td>\n",
       "    </tr>\n",
       "    <tr>\n",
       "      <th>Durbl</th>\n",
       "      <td>-0.415599</td>\n",
       "      <td>1.648536</td>\n",
       "    </tr>\n",
       "    <tr>\n",
       "      <th>Manuf</th>\n",
       "      <td>0.159771</td>\n",
       "      <td>1.169846</td>\n",
       "    </tr>\n",
       "    <tr>\n",
       "      <th>Enrgy</th>\n",
       "      <td>0.501719</td>\n",
       "      <td>0.96985</td>\n",
       "    </tr>\n",
       "    <tr>\n",
       "      <th>HiTec</th>\n",
       "      <td>-0.06402</td>\n",
       "      <td>1.132969</td>\n",
       "    </tr>\n",
       "    <tr>\n",
       "      <th>Telcm</th>\n",
       "      <td>0.194691</td>\n",
       "      <td>0.900729</td>\n",
       "    </tr>\n",
       "    <tr>\n",
       "      <th>Shops</th>\n",
       "      <td>0.275492</td>\n",
       "      <td>0.826492</td>\n",
       "    </tr>\n",
       "    <tr>\n",
       "      <th>Hlth</th>\n",
       "      <td>0.237841</td>\n",
       "      <td>0.673036</td>\n",
       "    </tr>\n",
       "    <tr>\n",
       "      <th>Utils</th>\n",
       "      <td>0.444585</td>\n",
       "      <td>0.538086</td>\n",
       "    </tr>\n",
       "    <tr>\n",
       "      <th>Other</th>\n",
       "      <td>-0.387135</td>\n",
       "      <td>1.207309</td>\n",
       "    </tr>\n",
       "  </tbody>\n",
       "</table>\n",
       "</div>"
      ],
      "text/plain": [
       "      Intercept     Slope\n",
       "NoDur  0.369443  0.652647\n",
       "Durbl -0.415599  1.648536\n",
       "Manuf  0.159771  1.169846\n",
       "Enrgy  0.501719   0.96985\n",
       "HiTec  -0.06402  1.132969\n",
       "Telcm  0.194691  0.900729\n",
       "Shops  0.275492  0.826492\n",
       "Hlth   0.237841  0.673036\n",
       "Utils  0.444585  0.538086\n",
       "Other -0.387135  1.207309"
      ]
     },
     "execution_count": 9,
     "metadata": {},
     "output_type": "execute_result"
    }
   ],
   "source": [
    "Market_model.T"
   ]
  },
  {
   "cell_type": "markdown",
   "metadata": {},
   "source": [
    "### Economic significance and pricing implications of the intercept and slope coefficients\n",
    "\n",
    "The slope coefficients provide an estimate of the portfolio's beta, the amount of exposure to systematic market risk the portfolio has that cannot be diversified away by holding more risky assets in the portfolio. The higher the beta, the more exposed the industry portfolio is to market risk. Accordingly, an investor would expect to earn a higher market risk premium as economic compensation for taking on this market risk. If an asset has negative beta, it has negative correlation with market return and investors would be willing to pay a premium to own such assets to provide insurance against a market downturn.\n",
    "\n",
    "The intercept, also called the \"alpha\" or the pricing error, represents the deviation of the asset's actual returns from those predicted by CAPM for individual assets or 'passive' portfolios. If CAPM is correct, the intercept coefficient should be zero. A positive intercept indicates that the CAPM predicted returns is below the actual returns of the asset and thus the asset is underpriced according to the CAPM model. In such cases, the asset would plot above the Security Market Line (SML), indicating it has delivered excess returns not explained by market risk alone.  It is posible that there are other systematic factors impacting the asset returns that are not captured by the CAPM (not reflected in market beta) such as size, value and momentum."
   ]
  },
  {
   "cell_type": "code",
   "execution_count": 10,
   "metadata": {},
   "outputs": [],
   "source": [
    "Mean_monthly_return = Merged_Portfolio.mean(axis=0)"
   ]
  },
  {
   "cell_type": "code",
   "execution_count": 11,
   "metadata": {},
   "outputs": [],
   "source": [
    "Security_Market_Line = pd.DataFrame(data=Mean_monthly_return)\n",
    "Security_Market_Line.rename(mapper={0:\"Mean_monthly_return\"},axis=1,inplace=True) \n",
    "Security_Market_Line = Security_Market_Line.merge(Market_model.T,how=\"outer\",left_index=True,right_index=True)"
   ]
  },
  {
   "cell_type": "code",
   "execution_count": 12,
   "metadata": {},
   "outputs": [],
   "source": [
    "Security_Market_Line.loc[\"Market\",\"Intercept\"]=0\n",
    "Security_Market_Line.loc[\"Market\",\"Slope\"]=1"
   ]
  },
  {
   "cell_type": "code",
   "execution_count": 13,
   "metadata": {},
   "outputs": [],
   "source": [
    "Security_Market_Line['Intercept'] = pd.to_numeric(Security_Market_Line['Intercept'])\n",
    "Security_Market_Line['Slope'] = pd.to_numeric(Security_Market_Line['Slope'])"
   ]
  },
  {
   "cell_type": "code",
   "execution_count": 14,
   "metadata": {},
   "outputs": [
    {
     "data": {
      "text/html": [
       "<div>\n",
       "<style scoped>\n",
       "    .dataframe tbody tr th:only-of-type {\n",
       "        vertical-align: middle;\n",
       "    }\n",
       "\n",
       "    .dataframe tbody tr th {\n",
       "        vertical-align: top;\n",
       "    }\n",
       "\n",
       "    .dataframe thead th {\n",
       "        text-align: right;\n",
       "    }\n",
       "</style>\n",
       "<table border=\"1\" class=\"dataframe\">\n",
       "  <thead>\n",
       "    <tr style=\"text-align: right;\">\n",
       "      <th></th>\n",
       "      <th>Mean_monthly_return</th>\n",
       "      <th>Intercept</th>\n",
       "      <th>Slope</th>\n",
       "    </tr>\n",
       "  </thead>\n",
       "  <tbody>\n",
       "    <tr>\n",
       "      <th>Durbl</th>\n",
       "      <td>0.733333</td>\n",
       "      <td>-0.415599</td>\n",
       "      <td>1.648536</td>\n",
       "    </tr>\n",
       "    <tr>\n",
       "      <th>Enrgy</th>\n",
       "      <td>1.231167</td>\n",
       "      <td>0.501719</td>\n",
       "      <td>0.969850</td>\n",
       "    </tr>\n",
       "    <tr>\n",
       "      <th>HiTec</th>\n",
       "      <td>0.766250</td>\n",
       "      <td>-0.064020</td>\n",
       "      <td>1.132969</td>\n",
       "    </tr>\n",
       "    <tr>\n",
       "      <th>Hlth</th>\n",
       "      <td>0.783833</td>\n",
       "      <td>0.237841</td>\n",
       "      <td>0.673036</td>\n",
       "    </tr>\n",
       "    <tr>\n",
       "      <th>Manuf</th>\n",
       "      <td>1.012833</td>\n",
       "      <td>0.159771</td>\n",
       "      <td>1.169846</td>\n",
       "    </tr>\n",
       "    <tr>\n",
       "      <th>Market</th>\n",
       "      <td>0.748083</td>\n",
       "      <td>0.000000</td>\n",
       "      <td>1.000000</td>\n",
       "    </tr>\n",
       "    <tr>\n",
       "      <th>NoDur</th>\n",
       "      <td>0.902833</td>\n",
       "      <td>0.369443</td>\n",
       "      <td>0.652647</td>\n",
       "    </tr>\n",
       "    <tr>\n",
       "      <th>Other</th>\n",
       "      <td>0.489083</td>\n",
       "      <td>-0.387135</td>\n",
       "      <td>1.207309</td>\n",
       "    </tr>\n",
       "    <tr>\n",
       "      <th>Shops</th>\n",
       "      <td>0.916333</td>\n",
       "      <td>0.275492</td>\n",
       "      <td>0.826492</td>\n",
       "    </tr>\n",
       "    <tr>\n",
       "      <th>Telcm</th>\n",
       "      <td>0.881417</td>\n",
       "      <td>0.194691</td>\n",
       "      <td>0.900729</td>\n",
       "    </tr>\n",
       "    <tr>\n",
       "      <th>Utils</th>\n",
       "      <td>0.907167</td>\n",
       "      <td>0.444585</td>\n",
       "      <td>0.538086</td>\n",
       "    </tr>\n",
       "  </tbody>\n",
       "</table>\n",
       "</div>"
      ],
      "text/plain": [
       "        Mean_monthly_return  Intercept     Slope\n",
       "Durbl              0.733333  -0.415599  1.648536\n",
       "Enrgy              1.231167   0.501719  0.969850\n",
       "HiTec              0.766250  -0.064020  1.132969\n",
       "Hlth               0.783833   0.237841  0.673036\n",
       "Manuf              1.012833   0.159771  1.169846\n",
       "Market             0.748083   0.000000  1.000000\n",
       "NoDur              0.902833   0.369443  0.652647\n",
       "Other              0.489083  -0.387135  1.207309\n",
       "Shops              0.916333   0.275492  0.826492\n",
       "Telcm              0.881417   0.194691  0.900729\n",
       "Utils              0.907167   0.444585  0.538086"
      ]
     },
     "execution_count": 14,
     "metadata": {},
     "output_type": "execute_result"
    }
   ],
   "source": [
    "Security_Market_Line"
   ]
  },
  {
   "cell_type": "code",
   "execution_count": 15,
   "metadata": {},
   "outputs": [],
   "source": [
    "slope, intercept, r, p, std_err = stats.linregress(Security_Market_Line[\"Slope\"], Security_Market_Line[\"Mean_monthly_return\"])"
   ]
  },
  {
   "cell_type": "code",
   "execution_count": 16,
   "metadata": {},
   "outputs": [
    {
     "data": {
      "text/plain": [
       "-0.18546745836573267"
      ]
     },
     "execution_count": 16,
     "metadata": {},
     "output_type": "execute_result"
    }
   ],
   "source": [
    "slope"
   ]
  },
  {
   "cell_type": "code",
   "execution_count": 17,
   "metadata": {},
   "outputs": [
    {
     "data": {
      "text/plain": [
       "1.0327683682657056"
      ]
     },
     "execution_count": 17,
     "metadata": {},
     "output_type": "execute_result"
    }
   ],
   "source": [
    "intercept"
   ]
  },
  {
   "cell_type": "code",
   "execution_count": 18,
   "metadata": {},
   "outputs": [],
   "source": [
    "SML = intercept + slope * np.linspace(0, 2.1, 100)"
   ]
  },
  {
   "cell_type": "code",
   "execution_count": 19,
   "metadata": {},
   "outputs": [
    {
     "data": {
      "image/png": "[encoded data removed]",
      "text/plain": [
       "<Figure size 640x480 with 1 Axes>"
      ]
     },
     "metadata": {},
     "output_type": "display_data"
    }
   ],
   "source": [
    "# Create the figure and axis objects\n",
    "fig, ax = plt.subplots(1, 1)\n",
    "\n",
    "# Plot the SML line using the generated beta_values\n",
    "ax.plot(np.linspace(0, 2.1, 100), SML, label=\"SML\", color=\"red\")\n",
    "\n",
    "# Scatter plot of the actual data points\n",
    "ax.scatter(Security_Market_Line[\"Slope\"], Security_Market_Line[\"Mean_monthly_return\"], color='blue', label=\"Data Points\")\n",
    "\n",
    "# Set x-ticks in increments of 0.2\n",
    "plt.xticks(np.arange(0, 2.1, 0.2))\n",
    "\n",
    "# Optional: Set y-ticks if needed \n",
    "# plt.yticks(np.arange(0, 2.1, 0.1))\n",
    "\n",
    "# Label the axes\n",
    "plt.xlabel('Beta')\n",
    "plt.ylabel('Mean Monthly Return')\n",
    "\n",
    "# Add title and legend\n",
    "plt.title('Security Market Line')\n",
    "plt.legend()\n",
    "\n",
    "# Display the plot\n",
    "plt.show()"
   ]
  },
  {
   "cell_type": "markdown",
   "metadata": {},
   "source": [
    "### Economic significance and pricing implications of the SML\n",
    "\n",
    "The Security Market Line (SML) is a graphical representation of the Capital Asset Pricing Model (CAPM). It depicts the linear relationship between an asset’s expected return and its beta.  According to CAPM, the intercept of the SML should be the risk-free rate, as an asset with zero beta has zero exposure to systematic risk, and thus should only earn the risk-free rate of return. The slope of the SML should be the excess market return. According to the CAPM, assets with a higher beta are more exposed to market risk, and investors would demand a higher expected return to compensate for taking on that additional risk.\n",
    "\n",
    "All assets that lie on the SML have the same Treynor ratio, meaning they offer the same ratio of risk premium to systematic risk (beta). In equilibrium, such assets are fairly priced, providing a return that is consistent with their level of market risk.\n",
    "\n",
    "Assets that lie above the SML are considered underpriced. This is because their actual or expected return is higher than the return predicted by the CAPM for their given level of risk (beta). As investors recognize the asset's underpricing, they will buy the asset, driving its price up and lowering its expected return until it aligns with the SML.\n",
    "\n",
    "Conversely, assets that lie below the SML are viewed as overpriced since their expected return is lower than the CAPM prediction for their risk level. Investors will likely sell these assets, causing their prices to fall, and their expected returns to rise, until they eventually align with the SML."
   ]
  }
 ],
 "metadata": {
  "kernelspec": {
   "display_name": ".venv",
   "language": "python",
   "name": "python3"
  },
  "language_info": {
   "codemirror_mode": {
    "name": "ipython",
    "version": 3
   },
   "file_extension": ".py",
   "mimetype": "text/x-python",
   "name": "python",
   "nbconvert_exporter": "python",
   "pygments_lexer": "ipython3",
   "version": "3.10.6"
  }
 },
 "nbformat": 4,
 "nbformat_minor": 2
}
