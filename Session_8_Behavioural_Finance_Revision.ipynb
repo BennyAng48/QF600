{
 "cells": [
  {
   "cell_type": "markdown",
   "metadata": {},
   "source": [
    "Assume Barberis, Huang, and Santos economy where investor receives utility from consumption as well as recent financial gain or loss. Use these parameters:\n",
    "\n",
    "delta = 0.99, gamma = 1, lambda = 2\n",
    "\n",
    "Consumption growth has lognormal distribution:\n",
    "\n",
    "lng = 0.02 + 0.02ε\n",
    "\n",
    "where ε is standard normal random variable. Simulate probability distribution for consumption growth with (at least) 10e4 random draws from standard normal distribution.\n",
    "\n",
    "With these parameters, risk-free rate is around 3% per year:\n",
    "\n",
    "Rf = e^0.0198 / 0.99 = 1.0303\n",
    "\n",
    " Define x as one plus dividend yield for market portfolio:\n",
    "\n",
    " \n",
    " x = (1 + P / D) * D / P = 1 + D / P\n",
    " \n",
    "\n",
    "and define error term:\n",
    "\n",
    "e(x) = 0.99bE[v(xg)] + 0.99x - 1\n",
    "\n",
    "where utility from recent financial gain or loss is given by:\n",
    "\n",
    "v(R) = R - 1.0303 for R >= 1.0303\n",
    "\n",
    "v(R) = 2(R - 1.0303) for R < 1.0303\n",
    "\n",
    "Solve for e(x) = 0 to find equilibrium value of x, using bisection search:\n",
    "\n",
    "1. Set x– = 1 and x+ = 1.1, and use simulated distribution of consumption growth to confirm that e(x–) < 0 and e(x+) > 0 ⇒ solution must lie between x– and x+\n",
    "2. Set x0 = 0.5*(x– + x+) and use simulated distribution of consumption growth to calculate e(x0)\n",
    "3. If |e(x0)| < 10–5, then you have converged to solution\n",
    "4. Otherwise if e(x0) < 0, then solution lies between x0 and x+ ⇒ repeat from step 2 with x– = x0\n",
    "5. Otherwise if e(x0) > 0, then solution lies between x– and x0 ⇒ repeat from step 2 with x+ = x0\n",
    "6. Repeat for b0 in range from 0 to 10, in increments of 0.1 (or less). \n",
    "\n",
    "Calculate price-dividend ratio for market portfolio:\n",
    "\n",
    "P / D = 1 / (x - 1)\n",
    " \n",
    "Plot price-dividend ratio (on vertical axis) vs b0.\n",
    "\n",
    "Calculate expected market return:\n",
    "\n",
    "E(Rm) = E(xg) = xe^0.0202\n",
    "\n",
    "Plot equity premium (on vertical axis) vs b0.\n",
    "\n",
    "Briefly explain main characteristics of v(∙) (which is utility function to measure utility from recent financial gain or loss), as well as economic significance of b0 and λ."
   ]
  },
  {
   "cell_type": "code",
   "execution_count": 1,
   "metadata": {},
   "outputs": [],
   "source": [
    "import matplotlib.pyplot as plt\n",
    "from matplotlib.pyplot import subplot, scatter, plot, axis\n",
    "import numpy as np\n",
    "import pandas as pd\n",
    "import seaborn as sns\n",
    "from scipy import stats\n",
    "import statsmodels.api as sm\n",
    "\n",
    "# Datetime\n",
    "import datetime as dt\n",
    "from datetime import datetime\n",
    "from datetime import timedelta\n",
    "\n",
    "import warnings\n",
    "warnings.filterwarnings(\"ignore\")"
   ]
  },
  {
   "cell_type": "code",
   "execution_count": 2,
   "metadata": {},
   "outputs": [],
   "source": [
    "# initialize variables\n",
    "n_simulations = 100000"
   ]
  },
  {
   "cell_type": "code",
   "execution_count": 3,
   "metadata": {},
   "outputs": [],
   "source": [
    "delta = 0.99            # Discount factor\n",
    "gamma = 1               # Coefficient of relative risk aversion\n",
    "lamda = 2               # Degree of loss aversion\n",
    "risk_free = 1.0303      # Risk-free"
   ]
  },
  {
   "cell_type": "code",
   "execution_count": 4,
   "metadata": {},
   "outputs": [],
   "source": [
    "# Note: This assumes that consumption grows at 2% a year with a standard deviation of 2%\n",
    "\n",
    "def consumption_growth (epsilon):\n",
    "    growth = np.exp(0.02 + 0.02 * epsilon)          # Edit consumption growth rate and consumption standard deviation here as needed\n",
    "    return growth"
   ]
  },
  {
   "cell_type": "code",
   "execution_count": 5,
   "metadata": {},
   "outputs": [],
   "source": [
    "columns = [\"epsilon\",\n",
    "           \"growth\",]"
   ]
  },
  {
   "cell_type": "code",
   "execution_count": 6,
   "metadata": {},
   "outputs": [],
   "source": [
    "# Create dataframe to store simulation results\n",
    "\n",
    "Simulation_df = pd.DataFrame(index=range(n_simulations), columns=columns)\n",
    "\n",
    "Simulation_df[\"epsilon\"] = np.random.normal(0, 1, (n_simulations))\n",
    "\n",
    "Simulation_df[\"growth\"] = consumption_growth (Simulation_df[\"epsilon\"])"
   ]
  },
  {
   "cell_type": "code",
   "execution_count": 7,
   "metadata": {},
   "outputs": [
    {
     "data": {
      "text/html": [
       "<div>\n",
       "<style scoped>\n",
       "    .dataframe tbody tr th:only-of-type {\n",
       "        vertical-align: middle;\n",
       "    }\n",
       "\n",
       "    .dataframe tbody tr th {\n",
       "        vertical-align: top;\n",
       "    }\n",
       "\n",
       "    .dataframe thead th {\n",
       "        text-align: right;\n",
       "    }\n",
       "</style>\n",
       "<table border=\"1\" class=\"dataframe\">\n",
       "  <thead>\n",
       "    <tr style=\"text-align: right;\">\n",
       "      <th></th>\n",
       "      <th>epsilon</th>\n",
       "      <th>growth</th>\n",
       "    </tr>\n",
       "  </thead>\n",
       "  <tbody>\n",
       "    <tr>\n",
       "      <th>0</th>\n",
       "      <td>2.009840</td>\n",
       "      <td>1.062046</td>\n",
       "    </tr>\n",
       "    <tr>\n",
       "      <th>1</th>\n",
       "      <td>-0.508284</td>\n",
       "      <td>1.009883</td>\n",
       "    </tr>\n",
       "    <tr>\n",
       "      <th>2</th>\n",
       "      <td>0.095780</td>\n",
       "      <td>1.022158</td>\n",
       "    </tr>\n",
       "    <tr>\n",
       "      <th>3</th>\n",
       "      <td>0.627712</td>\n",
       "      <td>1.033090</td>\n",
       "    </tr>\n",
       "    <tr>\n",
       "      <th>4</th>\n",
       "      <td>-0.334616</td>\n",
       "      <td>1.013397</td>\n",
       "    </tr>\n",
       "    <tr>\n",
       "      <th>...</th>\n",
       "      <td>...</td>\n",
       "      <td>...</td>\n",
       "    </tr>\n",
       "    <tr>\n",
       "      <th>99995</th>\n",
       "      <td>-1.874906</td>\n",
       "      <td>0.982654</td>\n",
       "    </tr>\n",
       "    <tr>\n",
       "      <th>99996</th>\n",
       "      <td>-0.147852</td>\n",
       "      <td>1.017189</td>\n",
       "    </tr>\n",
       "    <tr>\n",
       "      <th>99997</th>\n",
       "      <td>-0.413417</td>\n",
       "      <td>1.011801</td>\n",
       "    </tr>\n",
       "    <tr>\n",
       "      <th>99998</th>\n",
       "      <td>1.211204</td>\n",
       "      <td>1.045217</td>\n",
       "    </tr>\n",
       "    <tr>\n",
       "      <th>99999</th>\n",
       "      <td>0.042471</td>\n",
       "      <td>1.021068</td>\n",
       "    </tr>\n",
       "  </tbody>\n",
       "</table>\n",
       "<p>100000 rows × 2 columns</p>\n",
       "</div>"
      ],
      "text/plain": [
       "        epsilon    growth\n",
       "0      2.009840  1.062046\n",
       "1     -0.508284  1.009883\n",
       "2      0.095780  1.022158\n",
       "3      0.627712  1.033090\n",
       "4     -0.334616  1.013397\n",
       "...         ...       ...\n",
       "99995 -1.874906  0.982654\n",
       "99996 -0.147852  1.017189\n",
       "99997 -0.413417  1.011801\n",
       "99998  1.211204  1.045217\n",
       "99999  0.042471  1.021068\n",
       "\n",
       "[100000 rows x 2 columns]"
      ]
     },
     "execution_count": 7,
     "metadata": {},
     "output_type": "execute_result"
    }
   ],
   "source": [
    "Simulation_df"
   ]
  },
  {
   "cell_type": "code",
   "execution_count": 8,
   "metadata": {},
   "outputs": [],
   "source": [
    "# See Lesson 8 Slide 8\n",
    "\n",
    "rf = 1 / (delta * np.mean(np.array(Simulation_df[\"growth\"]) ** - gamma))"
   ]
  },
  {
   "cell_type": "code",
   "execution_count": 9,
   "metadata": {},
   "outputs": [
    {
     "data": {
      "text/plain": [
       "1.0303348593770623"
      ]
     },
     "execution_count": 9,
     "metadata": {},
     "output_type": "execute_result"
    }
   ],
   "source": [
    "rf"
   ]
  },
  {
   "cell_type": "code",
   "execution_count": 10,
   "metadata": {},
   "outputs": [],
   "source": [
    "# See Lesson 8 Slide 6\n",
    "\n",
    "def expected_utility_calc(kappa, g):\n",
    "\n",
    "    # https://numpy.org/doc/2.1/reference/generated/numpy.where.html\n",
    "    Eu = \\\n",
    "        np.mean(\n",
    "            np.where(\n",
    "                kappa * g >= risk_free,       # If return higher than risk-free rate\n",
    "                kappa * g - risk_free,        # Utility is just return minus risk free rate\n",
    "                2 * (kappa * g - risk_free)   # Otherwise, utility is twice as impacted # (lamda) Degree of loss aversion\n",
    "            )\n",
    "        )\n",
    "\n",
    "    return Eu"
   ]
  },
  {
   "cell_type": "code",
   "execution_count": 11,
   "metadata": {},
   "outputs": [],
   "source": [
    "# See Lesson 8 Slide 9\n",
    "\n",
    "def error(b, \n",
    "          utility, \n",
    "          kappa):\n",
    "\n",
    "    err = delta * b * utility + delta * kappa - 1     # (delta) Discount factor\n",
    "    \n",
    "    return err"
   ]
  },
  {
   "cell_type": "code",
   "execution_count": 12,
   "metadata": {},
   "outputs": [],
   "source": [
    "# This is the time varying scale factor to ensure that amount of utility from consumption remains similar to \n",
    "# amount of utility from recent gain or loss over different time intervals.\n",
    "# Use marginal utility of aggregate consumption as scale factor\n",
    "# b0 ≥ 0 determines extent to which utility from recent financial gain or loss contributes to investor’s lifetime utility\n",
    "\n",
    "b =  \\\n",
    "    np \\\n",
    "        .linspace(\n",
    "            start = 0, \n",
    "            stop = 10, \n",
    "            num = 1001\n",
    "        )"
   ]
  },
  {
   "cell_type": "code",
   "execution_count": 13,
   "metadata": {},
   "outputs": [],
   "source": [
    "kappa_results = []\n",
    "\n",
    "for i in b:\n",
    "    \n",
    "    # confirm that solution lies between start and end\n",
    "    start = 1\n",
    "    end = 1.1\n",
    "\n",
    "    start_utility = \\\n",
    "        expected_utility_calc(\n",
    "            kappa = np.full((1, n_simulations), start), \n",
    "            g = Simulation_df[\"growth\"].values\n",
    "            )\n",
    "    \n",
    "    end_utility = \\\n",
    "        expected_utility_calc(\n",
    "            kappa = np.full((1, n_simulations), end), \n",
    "            g = Simulation_df[\"growth\"].values\n",
    "        )\n",
    "\n",
    "    # If errors are of the same sign\n",
    "    if (error(i, start_utility, start) * error(i, end_utility, end)) > 0:\n",
    "    \n",
    "        print('solution does not lie between kappa_ and kappa+')\n",
    "\n",
    "    error_term = 999\n",
    "\n",
    "    # bisection search, while absolute of error term greater than\n",
    "    while abs(error_term) > 10e-5:\n",
    "\n",
    "        # set kappa as mid of start and end\n",
    "        kappa0_single = 0.5 * (start + end)\n",
    "\n",
    "        # create array of kappa to multiply with simulated consumption growth\n",
    "        kappa0 = np.full((1, n_simulations), kappa0_single)\n",
    "\n",
    "        # calculate the E(v(kappa * g))\n",
    "        Eu = expected_utility_calc(kappa = kappa0,\n",
    "                                   g = Simulation_df[\"growth\"].values)\n",
    "\n",
    "        # calculate error term\n",
    "        error_term = error(b = i,\n",
    "                           utility = Eu, \n",
    "                           kappa = kappa0_single)\n",
    "\n",
    "        # if error term < 0 means kappa < answer < 1.1, shift start point to kappa0_single\n",
    "        if error_term < 0:\n",
    "\n",
    "            start = kappa0_single\n",
    "\n",
    "        # if error term > 0 means 1 < answer < kappa, shift end point to kappa0_single\n",
    "        if error_term > 0:\n",
    "            \n",
    "            end = kappa0_single\n",
    "\n",
    "        # if error term converge than thats the kappa\n",
    "        if abs(error_term) < 10e-5:\n",
    "\n",
    "            kappa_results.append(kappa0_single)"
   ]
  },
  {
   "cell_type": "code",
   "execution_count": 14,
   "metadata": {},
   "outputs": [],
   "source": [
    "# creating df \n",
    "df = pd.DataFrame(kappa_results).rename(columns = {0 : 'kappa'})\n",
    "\n",
    "df['b'] = b"
   ]
  },
  {
   "cell_type": "markdown",
   "metadata": {},
   "source": [
    "# Calculate price-dividend ratio for market portfolio:\n",
    "\n",
    "#### P / D = 1 / (x - 1)\n",
    " \n",
    "#### Plot price-dividend ratio (on vertical axis) vs b0."
   ]
  },
  {
   "cell_type": "code",
   "execution_count": 15,
   "metadata": {},
   "outputs": [
    {
     "data": {
      "image/png": "[encoded data removed]",
      "text/plain": [
       "<Figure size 640x480 with 1 Axes>"
      ]
     },
     "metadata": {},
     "output_type": "display_data"
    }
   ],
   "source": [
    "# plotting price dividend ratio\n",
    "\n",
    "df['price_dividend_ratio'] = 1 / (df[\"kappa\"] - 1)\n",
    "\n",
    "plt.plot(\n",
    "    df[\"b\"], \n",
    "    df[\"price_dividend_ratio\"]\n",
    "    )\n",
    "\n",
    "plt.xlabel('b0')\n",
    "\n",
    "plt.ylabel('Price Dividend Ratio')\n",
    "\n",
    "plt.title('Price Dividend Ratio vs b0');"
   ]
  },
  {
   "cell_type": "markdown",
   "metadata": {},
   "source": [
    "## Calculate expected market return:\n",
    "\n",
    "#### E(Rm) = E(xg) = xe^0.0202\n",
    "\n",
    "#### Plot equity premium (on vertical axis) vs b0."
   ]
  },
  {
   "cell_type": "code",
   "execution_count": 16,
   "metadata": {},
   "outputs": [],
   "source": [
    "#plotting equity premium\n",
    "Rf = np.exp(0.0198) / 0.99                                     # Edit this as needed\n",
    "\n",
    "df['expected_market_return'] = df.kappa * np.exp(0.0202)       # Expected market return\n",
    "\n",
    "# Deduct rf from equity return to get equity risk premium\n",
    "df['equity_premium'] = df['expected_market_return'] - Rf       # Equity risk premium"
   ]
  },
  {
   "cell_type": "code",
   "execution_count": 17,
   "metadata": {},
   "outputs": [
    {
     "data": {
      "image/png": "[encoded data removed]",
      "text/plain": [
       "<Figure size 640x480 with 1 Axes>"
      ]
     },
     "metadata": {},
     "output_type": "display_data"
    }
   ],
   "source": [
    "# Deduct rf from equity return to get equity risk premium\n",
    "plt.plot(df[\"b\"], df['equity_premium'])\n",
    "\n",
    "plt.xlabel('b0')\n",
    "\n",
    "plt.ylabel('Equity Premium')\n",
    "\n",
    "plt.title('Equity Premium vs b0');"
   ]
  },
  {
   "cell_type": "markdown",
   "metadata": {},
   "source": [
    "## Briefly explain main characteristics of v(∙), as well as economic significance of b0 and λ."
   ]
  },
  {
   "cell_type": "markdown",
   "metadata": {},
   "source": [
    "According to prospect theory, investors are more sensitive to loss compared to a gain of the same magnitude. The gain or loss is measured relative to a reference level, based on the risk-free rate.\n",
    "\n",
    "v(∙) represents utility from recent financial gain or loss, it is a piecewise-linear function where utility from gain and loss are defined by 2 functions, one for gain, the other for loss. The function for loss is scaled by the degree of loss aversion (λ), such that the utility decrease from a loss is more than the utility increase from a gain of the same magnitude. Whether the return obtained is considered a gain or loss is measured relative to a reference level based on risk-free rate. \n",
    "\n",
    "b0 is the scale factor that ensures that the amount of utility from consumption remains similar to amount of utility from recent gain or loss. In other words, b0 determines the extent to which utility from recent financial gains or losses contribute to an investor's lifetime utility. If b0 equals to 0, investors utility is not impacted by recent gain or loss, and prospect theory is not relavant. For high values of b0, heavy weight is given to the recent financial gains or losses in contributing to an investor's lifetime utility. As b0 increases, equity risk premium should increase at a decreasing rate (concave). However, even at high values of b0, equity risk premium is still too low under  prospect theory for reasonable levels of risk aversion and loss aversion.\n",
    "\n",
    "λ is the degree of loss aversion. A λ of 1 would mean no loss aversion while a bigger λ would mean more loss aversion. As investors are more sensitive to shortfall in financial gain (or outright financial loss), λ is more than 1 and is around 2 in real-life. This means that investors are more sensitive to downside risk, and a loss would result in a reduction of utility that is twice as large (when λ = 2), compared to the increase in utility from a gain of the same magnitude. "
   ]
  }
 ],
 "metadata": {
  "kernelspec": {
   "display_name": ".venv",
   "language": "python",
   "name": "python3"
  },
  "language_info": {
   "codemirror_mode": {
    "name": "ipython",
    "version": 3
   },
   "file_extension": ".py",
   "mimetype": "text/x-python",
   "name": "python",
   "nbconvert_exporter": "python",
   "pygments_lexer": "ipython3",
   "version": "3.10.6"
  }
 },
 "nbformat": 4,
 "nbformat_minor": 2
}
