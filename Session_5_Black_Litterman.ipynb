{
 "cells": [
  {
   "cell_type": "markdown",
   "metadata": {},
   "source": [
    "Session 5 Slides 3-9"
   ]
  },
  {
   "cell_type": "code",
   "execution_count": 1,
   "metadata": {},
   "outputs": [],
   "source": [
    "import matplotlib.pyplot as plt\n",
    "from matplotlib.pyplot import subplot, scatter, plot, axis\n",
    "import numpy as np\n",
    "import pandas as pd\n",
    "import seaborn as sns\n",
    "from scipy import stats\n",
    "import statsmodels.api as sm\n",
    "\n",
    "# Datetime\n",
    "import datetime as dt\n",
    "from datetime import datetime\n",
    "from datetime import timedelta\n",
    "\n",
    "import warnings\n",
    "warnings.filterwarnings(\"ignore\")"
   ]
  },
  {
   "cell_type": "markdown",
   "metadata": {},
   "source": [
    "3 risky assets\n",
    "\n",
    "Investor expects annual risk premium of 5% for first asset\n",
    "\n",
    "Expects second asset to outperform third asset by 1%"
   ]
  },
  {
   "cell_type": "code",
   "execution_count": 2,
   "metadata": {},
   "outputs": [],
   "source": [
    "# pi = sample risk premiums\n",
    "\n",
    "pi = np.array([0.05, 0.05, 0.05])"
   ]
  },
  {
   "cell_type": "code",
   "execution_count": 3,
   "metadata": {},
   "outputs": [],
   "source": [
    "# V = covariance matrix of excess returns\n",
    "\n",
    "V = pd.DataFrame(np.random.uniform(0, 1, size=(3, 3)), index=[0, 1, 2], columns=[0, 1, 2]).values"
   ]
  },
  {
   "cell_type": "code",
   "execution_count": 4,
   "metadata": {},
   "outputs": [
    {
     "data": {
      "text/plain": [
       "array([[0.15750666, 0.75006338, 0.30917005],\n",
       "       [0.84312175, 0.90070198, 0.24829728],\n",
       "       [0.49821258, 0.17300773, 0.07003742]])"
      ]
     },
     "execution_count": 4,
     "metadata": {},
     "output_type": "execute_result"
    }
   ],
   "source": [
    "V"
   ]
  },
  {
   "cell_type": "code",
   "execution_count": null,
   "metadata": {},
   "outputs": [],
   "source": [
    "# Omega = covariance matrix based on confidence of investors views\n",
    "# Omega is an identity matrix equal to the number of views an investor has\n",
    "\n",
    "Omega = np.eye(2)"
   ]
  },
  {
   "cell_type": "code",
   "execution_count": 6,
   "metadata": {},
   "outputs": [
    {
     "data": {
      "text/plain": [
       "array([[1., 0.],\n",
       "       [0., 1.]])"
      ]
     },
     "execution_count": 6,
     "metadata": {},
     "output_type": "execute_result"
    }
   ],
   "source": [
    "Omega"
   ]
  },
  {
   "cell_type": "code",
   "execution_count": 7,
   "metadata": {},
   "outputs": [],
   "source": [
    "# m is the number of data points used to estimate the covariance matrix V\n",
    "\n",
    "m = 50\n",
    "\n",
    "theta = 1/m"
   ]
  },
  {
   "cell_type": "code",
   "execution_count": 8,
   "metadata": {},
   "outputs": [],
   "source": [
    "# First Asset, Second Asset, Third Asset\n",
    "\n",
    "First_view=[1,0,0]\n",
    "Second_view=[0,1,-1]\n",
    "#Third_view=[1,0,0]"
   ]
  },
  {
   "cell_type": "code",
   "execution_count": 9,
   "metadata": {},
   "outputs": [],
   "source": [
    "# Views = P\n",
    "\n",
    "Views = pd.DataFrame([First_view, Second_view], index=['First_view', 'Second_view']).values"
   ]
  },
  {
   "cell_type": "code",
   "execution_count": 10,
   "metadata": {},
   "outputs": [
    {
     "data": {
      "text/plain": [
       "array([[ 1,  0,  0],\n",
       "       [ 0,  1, -1]])"
      ]
     },
     "execution_count": 10,
     "metadata": {},
     "output_type": "execute_result"
    }
   ],
   "source": [
    "# First row represents absolute view, weights sum to 1\n",
    "# Second row represents relative view, weights sum to 0\n",
    "\n",
    "Views"
   ]
  },
  {
   "cell_type": "code",
   "execution_count": 11,
   "metadata": {},
   "outputs": [],
   "source": [
    "First_view_return=[0.05]\n",
    "Second_view_return=[0.01]"
   ]
  },
  {
   "cell_type": "code",
   "execution_count": 12,
   "metadata": {},
   "outputs": [],
   "source": [
    "# Return_Views = Q\n",
    "\n",
    "#Return_Views = pd.DataFrame([First_view_return, Second_view_return], index=['First_view_return', 'Second_view_return'])\n",
    "\n",
    "Return_Views = np.array([First_view_return, Second_view_return]).flatten() "
   ]
  },
  {
   "cell_type": "code",
   "execution_count": 13,
   "metadata": {},
   "outputs": [
    {
     "data": {
      "text/plain": [
       "array([0.05, 0.01])"
      ]
     },
     "execution_count": 13,
     "metadata": {},
     "output_type": "execute_result"
    }
   ],
   "source": [
    "Return_Views"
   ]
  },
  {
   "cell_type": "code",
   "execution_count": 14,
   "metadata": {},
   "outputs": [],
   "source": [
    "pi_hat = pi + theta * V @ Views.T @ np.linalg.inv(theta * Views @ V @ Views.T + Omega) @ (Return_Views - Views @ pi)"
   ]
  },
  {
   "cell_type": "code",
   "execution_count": 15,
   "metadata": {},
   "outputs": [
    {
     "data": {
      "text/plain": [
       "array([0.05008695, 0.0501276 , 0.05001951])"
      ]
     },
     "execution_count": 15,
     "metadata": {},
     "output_type": "execute_result"
    }
   ],
   "source": [
    "pi_hat"
   ]
  },
  {
   "cell_type": "code",
   "execution_count": 16,
   "metadata": {},
   "outputs": [],
   "source": [
    "M = V + np.linalg.inv((1 / theta) * np.linalg.inv(V) + Views.T @ np.linalg.inv(Omega) @ Views)"
   ]
  },
  {
   "cell_type": "code",
   "execution_count": 17,
   "metadata": {},
   "outputs": [
    {
     "data": {
      "text/plain": [
       "array([[0.16058711, 0.76489189, 0.31530341],\n",
       "       [0.85984348, 0.91827946, 0.25311434],\n",
       "       [0.50813213, 0.17629069, 0.07136988]])"
      ]
     },
     "execution_count": 17,
     "metadata": {},
     "output_type": "execute_result"
    }
   ],
   "source": [
    "M"
   ]
  },
  {
   "cell_type": "markdown",
   "metadata": {},
   "source": [
    "# Skewness"
   ]
  },
  {
   "cell_type": "markdown",
   "metadata": {},
   "source": [
    "Risk averse investors faces trade off between minimising variance of returns versus maximizing skewnsess of returns.\n",
    "\n",
    "We can identify frontier portfolios that minimize downside risk, for a given target mean return.\n",
    "\n",
    "If frontier portfolios minimize below-target semi-variance, then tangency portfolio will maximise Sortino ratio.\n",
    "\n",
    "Investors demand economic compensation for exposure to variance risk.\n",
    "\n",
    "Investors demand economic compensation for exposure to negative skewness, but will pay for exposure to positive skewness."
   ]
  },
  {
   "cell_type": "markdown",
   "metadata": {},
   "source": []
  }
 ],
 "metadata": {
  "kernelspec": {
   "display_name": ".venv",
   "language": "python",
   "name": "python3"
  },
  "language_info": {
   "codemirror_mode": {
    "name": "ipython",
    "version": 3
   },
   "file_extension": ".py",
   "mimetype": "text/x-python",
   "name": "python",
   "nbconvert_exporter": "python",
   "pygments_lexer": "ipython3",
   "version": "3.10.6"
  }
 },
 "nbformat": 4,
 "nbformat_minor": 2
}
