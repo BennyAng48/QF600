{
 "cells": [
  {
   "cell_type": "code",
   "execution_count": 1,
   "metadata": {},
   "outputs": [],
   "source": [
    "import matplotlib.pyplot as plt\n",
    "from matplotlib.pyplot import subplot, scatter, plot, axis\n",
    "import numpy as np\n",
    "import pandas as pd\n",
    "import seaborn as sns\n",
    "from scipy import stats\n",
    "import statsmodels.api as sm\n",
    "\n",
    "# Datetime\n",
    "import datetime as dt\n",
    "from datetime import datetime\n",
    "from datetime import timedelta\n",
    "\n",
    "import warnings"
   ]
  },
  {
   "cell_type": "code",
   "execution_count": 2,
   "metadata": {},
   "outputs": [],
   "source": [
    "warnings.filterwarnings(\"ignore\")"
   ]
  },
  {
   "cell_type": "code",
   "execution_count": 3,
   "metadata": {},
   "outputs": [],
   "source": [
    "# initialize variables\n",
    "n_simulations = 100000"
   ]
  },
  {
   "cell_type": "code",
   "execution_count": 4,
   "metadata": {},
   "outputs": [],
   "source": [
    "delta = 0.99  # Discount factor\n",
    "gamma = 1     # Coefficient of relative risk aversion\n",
    "lamda = 2     # Degree of loss aversion\n",
    "risk_free = 1.0303      # Risk-free"
   ]
  },
  {
   "cell_type": "code",
   "execution_count": 5,
   "metadata": {},
   "outputs": [],
   "source": [
    "# Note: This assumes that consumption grows at 2% a year with a standard deviation of 2%\n",
    "\n",
    "def consumption_growth (epsilon):\n",
    "    growth = np.exp(0.02 + 0.02 * epsilon)          # Edit consumption growth rate and consumption standard deviation here as needed\n",
    "    return growth"
   ]
  },
  {
   "cell_type": "code",
   "execution_count": 6,
   "metadata": {},
   "outputs": [],
   "source": [
    "columns = [\"epsilon\",\n",
    "           \"growth\",]"
   ]
  },
  {
   "cell_type": "code",
   "execution_count": 7,
   "metadata": {},
   "outputs": [],
   "source": [
    "# Create dataframe to store simulation results\n",
    "\n",
    "Simulation_df = pd.DataFrame(index=range(n_simulations), columns=columns)\n",
    "\n",
    "Simulation_df[\"epsilon\"] = np.random.normal(0, 1, (n_simulations))\n",
    "\n",
    "Simulation_df[\"growth\"] = consumption_growth (Simulation_df[\"epsilon\"])"
   ]
  },
  {
   "cell_type": "code",
   "execution_count": 8,
   "metadata": {},
   "outputs": [],
   "source": [
    "rf = 1 / (delta * np.mean(np.array(Simulation_df[\"growth\"]) ** - gamma))"
   ]
  },
  {
   "cell_type": "code",
   "execution_count": 9,
   "metadata": {},
   "outputs": [],
   "source": [
    "def expected_utility_calc(kappa, g):\n",
    "\n",
    "    Eu = \\\n",
    "        np.mean(\n",
    "            np.where(\n",
    "                kappa * g >= 1.0303,       # If return higher than risk-free rate\n",
    "                kappa * g - 1.0303,        # Utility is just return minus risk free rate\n",
    "                2 * (kappa * g - 1.0303)   # Otherwise, utility is twice as impacted\n",
    "            )\n",
    "        )\n",
    "\n",
    "    return Eu"
   ]
  },
  {
   "cell_type": "code",
   "execution_count": 10,
   "metadata": {},
   "outputs": [],
   "source": [
    "def error(b, utility, kappa):\n",
    "\n",
    "    err = 0.99 * b * utility + 0.99 * kappa - 1          # (delta) Discount factor\n",
    "    \n",
    "    return err"
   ]
  },
  {
   "cell_type": "code",
   "execution_count": 11,
   "metadata": {},
   "outputs": [],
   "source": [
    "b =  \\\n",
    "    np \\\n",
    "        .linspace(\n",
    "            start = 0, \n",
    "            stop = 10, \n",
    "            num = 1001\n",
    "        )"
   ]
  },
  {
   "cell_type": "code",
   "execution_count": 12,
   "metadata": {},
   "outputs": [],
   "source": [
    "kappa_results = []\n",
    "\n",
    "for i in b:\n",
    "    \n",
    "    # confirm that solution lies between start and end\n",
    "    start = 1\n",
    "    end = 1.1\n",
    "\n",
    "    start_utility = \\\n",
    "        expected_utility_calc(\n",
    "            kappa = np.full((1, n_simulations), start), \n",
    "            g = Simulation_df[\"growth\"].values\n",
    "            )\n",
    "    \n",
    "    end_utility = \\\n",
    "        expected_utility_calc(\n",
    "            kappa = np.full((1, n_simulations), end), \n",
    "            g = Simulation_df[\"growth\"].values\n",
    "        )\n",
    "\n",
    "    # If errors are of the same sign\n",
    "    if (error(i, start_utility, start) * error(i, end_utility, end)) > 0:\n",
    "    \n",
    "        print('solution does not lie between kappa_ and kappa+')\n",
    "\n",
    "    error_term = 999\n",
    "\n",
    "    # bisection search, while absolute of error term greater than\n",
    "    while abs(error_term) > 10e-5:\n",
    "\n",
    "        # set kappa as mid of start and end\n",
    "        kappa0_single = 0.5 * (start + end)\n",
    "\n",
    "        # create array of kappa to multiply with simulated consumption growth\n",
    "        kappa0 = np.full((1, n_simulations), kappa0_single)\n",
    "\n",
    "        # calculate the E(v(kappa * g))\n",
    "        Eu = expected_utility_calc(kappa = kappa0,\n",
    "                                   g = Simulation_df[\"growth\"].values)\n",
    "\n",
    "        # calculate error term\n",
    "        error_term = error(b = i,\n",
    "                           utility = Eu, \n",
    "                           kappa = kappa0_single)\n",
    "\n",
    "        # if error term < 0 means kappa < answer < 1.1, shift start point to kappa0_single\n",
    "        if error_term < 0:\n",
    "\n",
    "            start = kappa0_single\n",
    "\n",
    "        # if error term > 0 means 1 < answer < kappa, shift end point to kappa0_single\n",
    "        if error_term > 0:\n",
    "            \n",
    "            end = kappa0_single\n",
    "\n",
    "        # if error term converge than thats the kappa\n",
    "        if abs(error_term) < 10e-5:\n",
    "\n",
    "            kappa_results.append(kappa0_single)"
   ]
  },
  {
   "cell_type": "code",
   "execution_count": 13,
   "metadata": {},
   "outputs": [],
   "source": [
    "# creating df \n",
    "df = pd.DataFrame(kappa_results).rename(columns = {0 : 'kappa'})\n",
    "\n",
    "df['b'] = b"
   ]
  },
  {
   "cell_type": "markdown",
   "metadata": {},
   "source": [
    "# Calculate price-dividend ratio for market portfolio:\n",
    "\n",
    "#### P / D = 1 / (x - 1)\n",
    " \n",
    "#### Plot price-dividend ratio (on vertical axis) vs b0."
   ]
  },
  {
   "cell_type": "code",
   "execution_count": 14,
   "metadata": {},
   "outputs": [
    {
     "data": {
      "image/png": "[encoded data removed]",
      "text/plain": [
       "<Figure size 640x480 with 1 Axes>"
      ]
     },
     "metadata": {},
     "output_type": "display_data"
    }
   ],
   "source": [
    "# plotting price dividend ratio\n",
    "\n",
    "df['price_dividend_ratio'] = 1 / (df[\"kappa\"] - 1)\n",
    "\n",
    "plt.plot(\n",
    "    df[\"b\"], \n",
    "    df[\"price_dividend_ratio\"]\n",
    "    )\n",
    "\n",
    "plt.xlabel('b0')\n",
    "\n",
    "plt.ylabel('Price Dividend Ratio')\n",
    "\n",
    "plt.title('Price Dividend Ratio vs b0');"
   ]
  },
  {
   "cell_type": "markdown",
   "metadata": {},
   "source": [
    "## Calculate expected market return:\n",
    "\n",
    "#### E(Rm) = E(xg) = xe^0.0202\n",
    "\n",
    "#### Plot equity premium (on vertical axis) vs b0."
   ]
  },
  {
   "cell_type": "code",
   "execution_count": 15,
   "metadata": {},
   "outputs": [],
   "source": [
    "#plotting equity premium\n",
    "Rf = np.exp(0.0198) / 0.99                                     # Edit this as needed\n",
    "\n",
    "df['expected_market_return'] = df.kappa * np.exp(0.0202)       # Expected market return\n",
    "\n",
    "# Deduct rf from equity return to get equity risk premium\n",
    "df['equity_premium'] = df['expected_market_return'] - Rf       # Equity risk premium"
   ]
  },
  {
   "cell_type": "code",
   "execution_count": 16,
   "metadata": {},
   "outputs": [
    {
     "data": {
      "image/png": "[encoded data removed]",
      "text/plain": [
       "<Figure size 640x480 with 1 Axes>"
      ]
     },
     "metadata": {},
     "output_type": "display_data"
    }
   ],
   "source": [
    "# Deduct rf from equity return to get equity risk premium\n",
    "plt.plot(df[\"b\"], df['equity_premium'])\n",
    "\n",
    "plt.xlabel('b0')\n",
    "\n",
    "plt.ylabel('Equity Premium')\n",
    "\n",
    "plt.title('Equity Premium vs b0');"
   ]
  },
  {
   "cell_type": "markdown",
   "metadata": {},
   "source": [
    "## Briefly explain main characteristics of v(∙), as well as economic significance of b0 and λ."
   ]
  },
  {
   "cell_type": "markdown",
   "metadata": {},
   "source": [
    "According to prospect theory, investors are more sensitive to loss compared to a gain of the same magnitude. The gain or loss is measured relative to a reference level, based on the risk-free rate.\n",
    "\n",
    "v(∙) represents utility from recent financial gain or loss, it is a piecewise-linear function where utility from gain and loss are defined by 2 functions, one for gain, the other for loss. The function for loss is scaled by the degree of loss aversion (λ), such that the utility decrease from a loss is more than the utility increase from a gain of the same magnitude. Whether the return obtained is considered a gain or loss is measured relative to a reference level based on risk-free rate. \n",
    "\n",
    "b0 is the scale factor that ensures that the amount of utility from consumption remains similar to amount of utility from recent gain or loss. In other words, b0 determines the extent to which utility from recent financial gains or losses contribute to an investor's lifetime utility. If b0 equals to 0, investors utility is not impacted by recent gain or loss, and prospect theory is not relavant. For high values of b0, heavy weight is given to the recent financial gains or losses in contributing to an investor's lifetime utility. As b0 increases, equity risk premium should increase at a decreasing rate (concave). However, even at high values of b0, equity risk premium is still too low under  prospect theory for reasonable levels of risk aversion and loss aversion.\n",
    "\n",
    "λ is the degree of loss aversion. As investors are more sensitive to shortfall in financial gain (or outright financial loss), λ is more than 1 and is around 2 in real-life. This means that investors are more sensitive to downside risk, and a loss would result in a reduction of utility that is twice as large (when λ = 2), compared to the increase in utility from a gain of the same magnitude. "
   ]
  }
 ],
 "metadata": {
  "kernelspec": {
   "display_name": ".venv",
   "language": "python",
   "name": "python3"
  },
  "language_info": {
   "codemirror_mode": {
    "name": "ipython",
    "version": 3
   },
   "file_extension": ".py",
   "mimetype": "text/x-python",
   "name": "python",
   "nbconvert_exporter": "python",
   "pygments_lexer": "ipython3",
   "version": "3.10.6"
  }
 },
 "nbformat": 4,
 "nbformat_minor": 2
}
