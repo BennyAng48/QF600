{
 "cells": [
  {
   "cell_type": "code",
   "execution_count": 1,
   "metadata": {},
   "outputs": [],
   "source": [
    "import matplotlib.pyplot as plt\n",
    "import numpy as np\n",
    "import pandas as pd\n",
    "import seaborn as sns\n",
    "\n",
    "# Datetime\n",
    "import datetime as dt\n",
    "from datetime import datetime\n",
    "from datetime import timedelta\n",
    "\n",
    "import warnings"
   ]
  },
  {
   "cell_type": "code",
   "execution_count": 2,
   "metadata": {},
   "outputs": [],
   "source": [
    "warnings.filterwarnings(\"ignore\")"
   ]
  },
  {
   "cell_type": "code",
   "execution_count": 3,
   "metadata": {},
   "outputs": [],
   "source": [
    "Industry_Portfolio=pd.read_excel(\"Industry_Portfolios.xlsx\")"
   ]
  },
  {
   "cell_type": "code",
   "execution_count": 4,
   "metadata": {},
   "outputs": [],
   "source": [
    "Industry_Portfolio.set_index(\"Date\",inplace=True)"
   ]
  },
  {
   "cell_type": "markdown",
   "metadata": {},
   "source": [
    "### Mean return and standard deviation of return"
   ]
  },
  {
   "cell_type": "code",
   "execution_count": 5,
   "metadata": {},
   "outputs": [
    {
     "data": {
      "text/html": [
       "<div>\n",
       "<style scoped>\n",
       "    .dataframe tbody tr th:only-of-type {\n",
       "        vertical-align: middle;\n",
       "    }\n",
       "\n",
       "    .dataframe tbody tr th {\n",
       "        vertical-align: top;\n",
       "    }\n",
       "\n",
       "    .dataframe thead th {\n",
       "        text-align: right;\n",
       "    }\n",
       "</style>\n",
       "<table border=\"1\" class=\"dataframe\">\n",
       "  <thead>\n",
       "    <tr style=\"text-align: right;\">\n",
       "      <th></th>\n",
       "      <th>Mean</th>\n",
       "      <th>Std</th>\n",
       "    </tr>\n",
       "  </thead>\n",
       "  <tbody>\n",
       "    <tr>\n",
       "      <th>NoDur</th>\n",
       "      <td>0.902833</td>\n",
       "      <td>3.345657</td>\n",
       "    </tr>\n",
       "    <tr>\n",
       "      <th>Durbl</th>\n",
       "      <td>0.733333</td>\n",
       "      <td>8.361852</td>\n",
       "    </tr>\n",
       "    <tr>\n",
       "      <th>Manuf</th>\n",
       "      <td>1.012833</td>\n",
       "      <td>5.310270</td>\n",
       "    </tr>\n",
       "    <tr>\n",
       "      <th>Enrgy</th>\n",
       "      <td>1.231167</td>\n",
       "      <td>6.081524</td>\n",
       "    </tr>\n",
       "    <tr>\n",
       "      <th>HiTec</th>\n",
       "      <td>0.766250</td>\n",
       "      <td>5.381191</td>\n",
       "    </tr>\n",
       "    <tr>\n",
       "      <th>Telcm</th>\n",
       "      <td>0.881417</td>\n",
       "      <td>4.448284</td>\n",
       "    </tr>\n",
       "    <tr>\n",
       "      <th>Shops</th>\n",
       "      <td>0.916333</td>\n",
       "      <td>4.093786</td>\n",
       "    </tr>\n",
       "    <tr>\n",
       "      <th>Hlth</th>\n",
       "      <td>0.783833</td>\n",
       "      <td>3.787172</td>\n",
       "    </tr>\n",
       "    <tr>\n",
       "      <th>Utils</th>\n",
       "      <td>0.907167</td>\n",
       "      <td>3.701763</td>\n",
       "    </tr>\n",
       "    <tr>\n",
       "      <th>Other</th>\n",
       "      <td>0.489083</td>\n",
       "      <td>5.582452</td>\n",
       "    </tr>\n",
       "  </tbody>\n",
       "</table>\n",
       "</div>"
      ],
      "text/plain": [
       "           Mean       Std\n",
       "NoDur  0.902833  3.345657\n",
       "Durbl  0.733333  8.361852\n",
       "Manuf  1.012833  5.310270\n",
       "Enrgy  1.231167  6.081524\n",
       "HiTec  0.766250  5.381191\n",
       "Telcm  0.881417  4.448284\n",
       "Shops  0.916333  4.093786\n",
       "Hlth   0.783833  3.787172\n",
       "Utils  0.907167  3.701763\n",
       "Other  0.489083  5.582452"
      ]
     },
     "execution_count": 5,
     "metadata": {},
     "output_type": "execute_result"
    }
   ],
   "source": [
    "Summary = pd.DataFrame({\"Mean\":Industry_Portfolio.mean(),\"Std\":Industry_Portfolio.std()})\n",
    "Summary"
   ]
  },
  {
   "cell_type": "code",
   "execution_count": 6,
   "metadata": {},
   "outputs": [],
   "source": [
    "R=pd.DataFrame(data=Industry_Portfolio.mean(axis=0))\n",
    "\n",
    "V=Industry_Portfolio.cov()\n",
    "\n",
    "V_inv = pd.DataFrame(np.linalg.inv(V), columns=V.columns, index=V.index)\n",
    "\n",
    "e = pd.DataFrame(data=np.ones((Industry_Portfolio.shape[1], 1)), \n",
    "                 index=Industry_Portfolio.columns, \n",
    "                 columns=[\"Dummy\"])"
   ]
  },
  {
   "cell_type": "code",
   "execution_count": 7,
   "metadata": {},
   "outputs": [],
   "source": [
    "# Compute Alpha\n",
    "Alpha = (R.T @ V_inv @ e).values[0, 0]\n",
    "\n",
    "# Compute Zeta\n",
    "Zeta = (R.T @ V_inv @ R).values[0, 0]\n",
    "\n",
    "# Compute Delta\n",
    "Delta = (e.T @ V_inv @ e).values[0, 0]"
   ]
  },
  {
   "cell_type": "code",
   "execution_count": 8,
   "metadata": {},
   "outputs": [],
   "source": [
    "# Compute 'a'\n",
    "numerator_a1 = (Zeta * V_inv @ e)\n",
    "numerator_a2 = (Alpha * V_inv @ R)\n",
    "numerator_a = numerator_a1.values - numerator_a2.values\n",
    "denominator_a = (Zeta * Delta) - Alpha**2\n",
    "a = numerator_a / denominator_a"
   ]
  },
  {
   "cell_type": "code",
   "execution_count": 9,
   "metadata": {},
   "outputs": [],
   "source": [
    "# Compute 'b'\n",
    "numerator_b1 = (Delta * V_inv @ R)\n",
    "numerator_b2 = (Alpha * V_inv @ e)\n",
    "numerator_b = numerator_b1.values - numerator_b2.values\n",
    "denominator_b = (Zeta * Delta) - Alpha**2\n",
    "b = numerator_b / denominator_b"
   ]
  },
  {
   "cell_type": "code",
   "execution_count": 10,
   "metadata": {},
   "outputs": [],
   "source": [
    "# Create the DataFrame with a range of portfolio returns as the index\n",
    "returns_range = np.arange(0, 2, 0.001)\n",
    "Minimum_Varaince_Frontier = pd.DataFrame(index=returns_range, columns=Industry_Portfolio.columns)\n",
    "\n",
    "# Fill the DataFrame with weights based on the formula\n",
    "for portfolio_return in returns_range:\n",
    "    weights = a + b * portfolio_return\n",
    "    Minimum_Varaince_Frontier.loc[portfolio_return, :] = weights.T"
   ]
  },
  {
   "cell_type": "code",
   "execution_count": 11,
   "metadata": {},
   "outputs": [],
   "source": [
    "R_mv=Alpha/Delta"
   ]
  },
  {
   "cell_type": "code",
   "execution_count": 12,
   "metadata": {},
   "outputs": [],
   "source": [
    "Minimum_Varaince_Frontier[\"Variance\"]=(1/Delta)+(Delta/(Zeta*Delta-Alpha**2))*(Minimum_Varaince_Frontier.index-R_mv)**2\n",
    "Minimum_Varaince_Frontier[\"SD\"]=np.sqrt(Minimum_Varaince_Frontier[\"Variance\"])"
   ]
  },
  {
   "cell_type": "markdown",
   "metadata": {},
   "source": [
    "### Minimum-variance frontier (without the riskless asset) "
   ]
  },
  {
   "cell_type": "code",
   "execution_count": 13,
   "metadata": {},
   "outputs": [
    {
     "data": {
      "image/png": "[encoded data removed]",
      "text/plain": [
       "<Figure size 640x480 with 1 Axes>"
      ]
     },
     "metadata": {},
     "output_type": "display_data"
    }
   ],
   "source": [
    "plt.plot(Minimum_Varaince_Frontier[\"SD\"], Minimum_Varaince_Frontier.index, color='blue', linestyle='-')\n",
    "\n",
    "#in increments of 0.1%\n",
    "plt.yticks(np.arange(0, 2.1, 0.1))\n",
    "plt.xlabel('Standard Deviation of Return')\n",
    "plt.ylabel('Expected Return')\n",
    "plt.title('Minimum-variance Frontier')\n",
    "plt.show() "
   ]
  },
  {
   "cell_type": "markdown",
   "metadata": {},
   "source": [
    "### Economic significance and relevance of the minimum-variance frontier"
   ]
  },
  {
   "cell_type": "markdown",
   "metadata": {},
   "source": [
    "The minimum variance frontier illustrates the minimum volatility achievable by a portfolio, for a given amount of expected return. Assuming that investors are risk-adverse and likes high returns but dislikes high risk, the minimum variance frontier would inform the investor what is the minimum volatility he can expect, for a given amount of expected return. Assuming that the risky assets that are available to the investor are not perfectly correlated with each other, by combining the assets and diversifying his investments, the investor is able to achieve better risk-adjusted returns compared to any one individual asset. At the same time, there are limits to diversification, any portfolios to the left of the minimum variance frontier are unachievable with any combinations of the current risky assets.\n",
    "\n",
    "The minimum variance frontier also helps the investor in finding the global minimum-variance portfolio, which is the lowest volatility portfolio available (assuming no riskless asset), that the investor can achieve by combining the individual assets. The minimum variance frontier also helps the investor find the efficient frontier, which is the portfolio with the highest expected return for a given amount of volatility (to be elaborated on in later sections)."
   ]
  },
  {
   "cell_type": "code",
   "execution_count": 14,
   "metadata": {},
   "outputs": [],
   "source": [
    "rf=0.13"
   ]
  },
  {
   "cell_type": "code",
   "execution_count": 15,
   "metadata": {},
   "outputs": [],
   "source": [
    "# Note that the np.arrange is supposed to be portfolio standard deviation (the x-axis)\n",
    "Risk_free_line = rf + np.arange(0, 6, 0.001)*(Zeta-2*Alpha*rf+Delta*(rf**2))**0.5"
   ]
  },
  {
   "cell_type": "code",
   "execution_count": 16,
   "metadata": {},
   "outputs": [],
   "source": [
    "Minimum_Varaince_Frontier[\"Riskless_Variance\"]=((Minimum_Varaince_Frontier.index-rf)**2)/(Zeta - 2*Alpha*rf + Delta*(rf**2))\n",
    "Minimum_Varaince_Frontier[\"Riskless_SD\"]=np.sqrt(Minimum_Varaince_Frontier[\"Riskless_Variance\"])\n",
    "Minimum_Varaince_Frontier[\"Riskless_SD\"] = (Minimum_Varaince_Frontier.index-rf)/np.sqrt(Zeta - 2*Alpha*rf + Delta*(rf**2))"
   ]
  },
  {
   "cell_type": "markdown",
   "metadata": {},
   "source": [
    "### Efficient frontier (with the riskless asset)"
   ]
  },
  {
   "cell_type": "code",
   "execution_count": 17,
   "metadata": {},
   "outputs": [
    {
     "data": {
      "image/png": "[encoded data removed]",
      "text/plain": [
       "<Figure size 640x480 with 1 Axes>"
      ]
     },
     "metadata": {},
     "output_type": "display_data"
    }
   ],
   "source": [
    "plt.plot(Minimum_Varaince_Frontier[\"SD\"], Minimum_Varaince_Frontier.index, color='blue', linestyle='--', label = \"Without Riskless Asset\")\n",
    "plt.plot(Minimum_Varaince_Frontier[\"Riskless_SD\"], Minimum_Varaince_Frontier.index, color='red', linestyle='-', label = \"With Riskless Asset\")\n",
    "\n",
    "plt.yticks(np.arange(0, 2.1, 0.1))\n",
    "plt.xlim(0,6)\n",
    "plt.xlabel('Standard Deviation of Return')\n",
    "plt.ylabel('Expected Return')\n",
    "plt.title('Efficient Frontier')\n",
    "plt.legend()\n",
    "plt.show()"
   ]
  },
  {
   "cell_type": "markdown",
   "metadata": {},
   "source": [
    "### Economic significance and relevance of the efficient frontier"
   ]
  },
  {
   "cell_type": "markdown",
   "metadata": {},
   "source": [
    "The efficent frontier illustrates what is the maximum expected return achievable by an investor for a given amount of risk. By including a riskless asset in addition to the portfolio of risky assets, the investor is able to push out the efficient frontier compared with the case when he only had risky assets, as he is now able to borrow or lend at the risk-free rate to invest more or less in the tangency portfolio, as needed. Assuming that the investor is risk adverse, likes return but dislike risk, he would choose a portfolio along the efficient frontier that maximizes his personal utility function, which is the point where his indifference curve is tangent to the efficient frontier. Any portfolio below the efficient frontier offers lower expected return for a similar amount of risk and the risk adverse investor would not choose such a portfolio when there is another portfolio available that offers higher return with similar amount of risk. Conversely, any portfolio above the efficient frontier is not achievable given the current universe of risky assets available to the investor."
   ]
  },
  {
   "cell_type": "markdown",
   "metadata": {},
   "source": [
    "### Sharpe ratio for the tangency portfolio"
   ]
  },
  {
   "cell_type": "code",
   "execution_count": 18,
   "metadata": {},
   "outputs": [
    {
     "data": {
      "text/plain": [
       "0.40356559934950903"
      ]
     },
     "execution_count": 18,
     "metadata": {},
     "output_type": "execute_result"
    }
   ],
   "source": [
    "Sharpe = np.sqrt(Zeta - 2*Alpha*rf + Delta*rf**2)\n",
    "Sharpe"
   ]
  },
  {
   "cell_type": "code",
   "execution_count": 19,
   "metadata": {},
   "outputs": [
    {
     "name": "stdout",
     "output_type": "stream",
     "text": [
      "The Sharpe ratio of the tangency portfolio is 0.404\n"
     ]
    }
   ],
   "source": [
    "print (f'The Sharpe ratio of the tangency portfolio is {Sharpe:.3f}')"
   ]
  },
  {
   "cell_type": "code",
   "execution_count": 20,
   "metadata": {},
   "outputs": [],
   "source": [
    "R_tg = (Alpha*rf - Zeta)/(Delta*rf - Alpha)"
   ]
  },
  {
   "cell_type": "code",
   "execution_count": 21,
   "metadata": {},
   "outputs": [],
   "source": [
    "w_star = a + b*R_tg"
   ]
  },
  {
   "cell_type": "markdown",
   "metadata": {},
   "source": [
    "### Tangency portfolio weights for the ten industry portfolios."
   ]
  },
  {
   "cell_type": "code",
   "execution_count": 22,
   "metadata": {},
   "outputs": [
    {
     "data": {
      "text/html": [
       "<div>\n",
       "<style scoped>\n",
       "    .dataframe tbody tr th:only-of-type {\n",
       "        vertical-align: middle;\n",
       "    }\n",
       "\n",
       "    .dataframe tbody tr th {\n",
       "        vertical-align: top;\n",
       "    }\n",
       "\n",
       "    .dataframe thead th {\n",
       "        text-align: right;\n",
       "    }\n",
       "</style>\n",
       "<table border=\"1\" class=\"dataframe\">\n",
       "  <thead>\n",
       "    <tr style=\"text-align: right;\">\n",
       "      <th></th>\n",
       "      <th>Optimal_Weights</th>\n",
       "    </tr>\n",
       "  </thead>\n",
       "  <tbody>\n",
       "    <tr>\n",
       "      <th>NoDur</th>\n",
       "      <td>0.567972</td>\n",
       "    </tr>\n",
       "    <tr>\n",
       "      <th>Durbl</th>\n",
       "      <td>-0.214073</td>\n",
       "    </tr>\n",
       "    <tr>\n",
       "      <th>Manuf</th>\n",
       "      <td>0.714105</td>\n",
       "    </tr>\n",
       "    <tr>\n",
       "      <th>Enrgy</th>\n",
       "      <td>0.104087</td>\n",
       "    </tr>\n",
       "    <tr>\n",
       "      <th>HiTec</th>\n",
       "      <td>-0.363438</td>\n",
       "    </tr>\n",
       "    <tr>\n",
       "      <th>Telcm</th>\n",
       "      <td>-0.095463</td>\n",
       "    </tr>\n",
       "    <tr>\n",
       "      <th>Shops</th>\n",
       "      <td>0.991647</td>\n",
       "    </tr>\n",
       "    <tr>\n",
       "      <th>Hlth</th>\n",
       "      <td>0.075570</td>\n",
       "    </tr>\n",
       "    <tr>\n",
       "      <th>Utils</th>\n",
       "      <td>0.132643</td>\n",
       "    </tr>\n",
       "    <tr>\n",
       "      <th>Other</th>\n",
       "      <td>-0.913051</td>\n",
       "    </tr>\n",
       "  </tbody>\n",
       "</table>\n",
       "</div>"
      ],
      "text/plain": [
       "       Optimal_Weights\n",
       "NoDur         0.567972\n",
       "Durbl        -0.214073\n",
       "Manuf         0.714105\n",
       "Enrgy         0.104087\n",
       "HiTec        -0.363438\n",
       "Telcm        -0.095463\n",
       "Shops         0.991647\n",
       "Hlth          0.075570\n",
       "Utils         0.132643\n",
       "Other        -0.913051"
      ]
     },
     "execution_count": 22,
     "metadata": {},
     "output_type": "execute_result"
    }
   ],
   "source": [
    "Tangency_portfolio=pd.DataFrame(data=w_star,index=Industry_Portfolio.columns,columns=[\"Optimal_Weights\"])\n",
    "Tangency_portfolio"
   ]
  },
  {
   "cell_type": "markdown",
   "metadata": {},
   "source": [
    "### Economic significance and relevance of the tangency portfolio"
   ]
  },
  {
   "cell_type": "markdown",
   "metadata": {},
   "source": [
    "The tangency portfolio can be found at the point where the capital allocation line is tangent to the efficient frontier created by combining the risky assets. By combining a riskless asset with the existing portfolio of risky assets, a new efficient frontier is created as a straight line starting from the risk-free rate to the tangency point and continuing beyond that. The tangency portfolio illustrates the portfolio with maximum Sharpe ratio achievable by an investor by combining risky assets with a riskless asset. As risk-adverse investors likes return but dislike risk, he would want the best possible \"reward-to-risk\" on his investment portfolio and choose a portfolio along this efficient frontier which combines a risk-free bond and the tangency portfolio which also gives the best Sharpe. If an investor's optimal portfolio (considering his utility function) is to the left of the tangency portfolio, the investor will invest part of his wealth in the risk-free bond and part of his wealth in the tangency portfolio. If an investor's optimal portfolio (considering his utility function) is to the right of the tangency portfolio, the investor will borrow at the risk-free rate and invest more than 100% of his wealth in the tangency portfolio. Any combination of borrowing/lending and investing in the tangency portfolio will give the investor the same (maximum possible) Sharpe ratio."
   ]
  }
 ],
 "metadata": {
  "kernelspec": {
   "display_name": ".venv",
   "language": "python",
   "name": "python3"
  },
  "language_info": {
   "codemirror_mode": {
    "name": "ipython",
    "version": 3
   },
   "file_extension": ".py",
   "mimetype": "text/x-python",
   "name": "python",
   "nbconvert_exporter": "python",
   "pygments_lexer": "ipython3",
   "version": "3.10.6"
  }
 },
 "nbformat": 4,
 "nbformat_minor": 2
}
